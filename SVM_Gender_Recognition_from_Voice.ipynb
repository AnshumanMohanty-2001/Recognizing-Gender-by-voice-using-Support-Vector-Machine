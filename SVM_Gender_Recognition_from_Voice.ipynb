{
 "cells": [
  {
   "cell_type": "markdown",
   "id": "9ee1bc2c",
   "metadata": {},
   "source": [
    "# Recognizing Gender from voice using SVM"
   ]
  },
  {
   "cell_type": "markdown",
   "id": "01f403b3",
   "metadata": {},
   "source": [
    "The aim of this project is to classify the sound as male or female depending upon various parameters of sound by using Support Vector Machine. The following constitutes the general flow of the project.\n",
    "\n",
    "<h4>Project Flow</h4>\n",
    "<ol>\n",
    "    <li>Load the Dataset</li>\n",
    "    <li>EDA</li>\n",
    "    <li>Null Value Check</li>\n",
    "    <li>Performing One hot encoding</li>\n",
    "    <li>Splitting the data</li>\n",
    "    <li>Scaling the data</li>\n",
    "    <li>Feature Selection</li>\n",
    "    <li>Building the model</li>\n",
    "    <li>Model Fitting</li>\n",
    "    <li>Hyperparameter tuning</li>\n",
    "    <li>Performance Evaluation</li>\n",
    "</ol>"
   ]
  },
  {
   "cell_type": "markdown",
   "id": "a8d57dd9",
   "metadata": {},
   "source": [
    "### Import Required Libraries"
   ]
  },
  {
   "cell_type": "code",
   "execution_count": 1,
   "id": "a0030e29",
   "metadata": {},
   "outputs": [],
   "source": [
    "import numpy as np\n",
    "import pandas as pd\n",
    "import seaborn as sns\n",
    "import missingno as msno\n",
    "import matplotlib.pyplot as plt\n",
    "from sklearn.svm import SVC\n",
    "from sklearn.linear_model import Lasso\n",
    "from sklearn.model_selection import train_test_split\n",
    "from sklearn.feature_selection import SelectFromModel\n",
    "from sklearn.preprocessing import StandardScaler, RobustScaler\n",
    "from sklearn.metrics import accuracy_score, confusion_matrix, classification_report, f1_score\n",
    "%matplotlib inline\n",
    "pd.pandas.set_option('display.max_columns',None)"
   ]
  },
  {
   "cell_type": "markdown",
   "id": "26ef7194",
   "metadata": {},
   "source": [
    "## Load the dataset"
   ]
  },
  {
   "cell_type": "code",
   "execution_count": 2,
   "id": "6fab5d43",
   "metadata": {
    "scrolled": true
   },
   "outputs": [
    {
     "data": {
      "text/html": [
       "<div>\n",
       "<style scoped>\n",
       "    .dataframe tbody tr th:only-of-type {\n",
       "        vertical-align: middle;\n",
       "    }\n",
       "\n",
       "    .dataframe tbody tr th {\n",
       "        vertical-align: top;\n",
       "    }\n",
       "\n",
       "    .dataframe thead th {\n",
       "        text-align: right;\n",
       "    }\n",
       "</style>\n",
       "<table border=\"1\" class=\"dataframe\">\n",
       "  <thead>\n",
       "    <tr style=\"text-align: right;\">\n",
       "      <th></th>\n",
       "      <th>meanfreq</th>\n",
       "      <th>sd</th>\n",
       "      <th>median</th>\n",
       "      <th>Q25</th>\n",
       "      <th>Q75</th>\n",
       "      <th>IQR</th>\n",
       "      <th>skew</th>\n",
       "      <th>kurt</th>\n",
       "      <th>sp.ent</th>\n",
       "      <th>sfm</th>\n",
       "      <th>mode</th>\n",
       "      <th>centroid</th>\n",
       "      <th>meanfun</th>\n",
       "      <th>minfun</th>\n",
       "      <th>maxfun</th>\n",
       "      <th>meandom</th>\n",
       "      <th>mindom</th>\n",
       "      <th>maxdom</th>\n",
       "      <th>dfrange</th>\n",
       "      <th>modindx</th>\n",
       "      <th>label</th>\n",
       "    </tr>\n",
       "  </thead>\n",
       "  <tbody>\n",
       "    <tr>\n",
       "      <th>0</th>\n",
       "      <td>0.059781</td>\n",
       "      <td>0.064241</td>\n",
       "      <td>0.032027</td>\n",
       "      <td>0.015071</td>\n",
       "      <td>0.090193</td>\n",
       "      <td>0.075122</td>\n",
       "      <td>12.863462</td>\n",
       "      <td>274.402906</td>\n",
       "      <td>0.893369</td>\n",
       "      <td>0.491918</td>\n",
       "      <td>0.000000</td>\n",
       "      <td>0.059781</td>\n",
       "      <td>0.084279</td>\n",
       "      <td>0.015702</td>\n",
       "      <td>0.275862</td>\n",
       "      <td>0.007812</td>\n",
       "      <td>0.007812</td>\n",
       "      <td>0.007812</td>\n",
       "      <td>0.000000</td>\n",
       "      <td>0.000000</td>\n",
       "      <td>male</td>\n",
       "    </tr>\n",
       "    <tr>\n",
       "      <th>1</th>\n",
       "      <td>0.066009</td>\n",
       "      <td>0.067310</td>\n",
       "      <td>0.040229</td>\n",
       "      <td>0.019414</td>\n",
       "      <td>0.092666</td>\n",
       "      <td>0.073252</td>\n",
       "      <td>22.423285</td>\n",
       "      <td>634.613855</td>\n",
       "      <td>0.892193</td>\n",
       "      <td>0.513724</td>\n",
       "      <td>0.000000</td>\n",
       "      <td>0.066009</td>\n",
       "      <td>0.107937</td>\n",
       "      <td>0.015826</td>\n",
       "      <td>0.250000</td>\n",
       "      <td>0.009014</td>\n",
       "      <td>0.007812</td>\n",
       "      <td>0.054688</td>\n",
       "      <td>0.046875</td>\n",
       "      <td>0.052632</td>\n",
       "      <td>male</td>\n",
       "    </tr>\n",
       "    <tr>\n",
       "      <th>2</th>\n",
       "      <td>0.077316</td>\n",
       "      <td>0.083829</td>\n",
       "      <td>0.036718</td>\n",
       "      <td>0.008701</td>\n",
       "      <td>0.131908</td>\n",
       "      <td>0.123207</td>\n",
       "      <td>30.757155</td>\n",
       "      <td>1024.927705</td>\n",
       "      <td>0.846389</td>\n",
       "      <td>0.478905</td>\n",
       "      <td>0.000000</td>\n",
       "      <td>0.077316</td>\n",
       "      <td>0.098706</td>\n",
       "      <td>0.015656</td>\n",
       "      <td>0.271186</td>\n",
       "      <td>0.007990</td>\n",
       "      <td>0.007812</td>\n",
       "      <td>0.015625</td>\n",
       "      <td>0.007812</td>\n",
       "      <td>0.046512</td>\n",
       "      <td>male</td>\n",
       "    </tr>\n",
       "    <tr>\n",
       "      <th>3</th>\n",
       "      <td>0.151228</td>\n",
       "      <td>0.072111</td>\n",
       "      <td>0.158011</td>\n",
       "      <td>0.096582</td>\n",
       "      <td>0.207955</td>\n",
       "      <td>0.111374</td>\n",
       "      <td>1.232831</td>\n",
       "      <td>4.177296</td>\n",
       "      <td>0.963322</td>\n",
       "      <td>0.727232</td>\n",
       "      <td>0.083878</td>\n",
       "      <td>0.151228</td>\n",
       "      <td>0.088965</td>\n",
       "      <td>0.017798</td>\n",
       "      <td>0.250000</td>\n",
       "      <td>0.201497</td>\n",
       "      <td>0.007812</td>\n",
       "      <td>0.562500</td>\n",
       "      <td>0.554688</td>\n",
       "      <td>0.247119</td>\n",
       "      <td>male</td>\n",
       "    </tr>\n",
       "    <tr>\n",
       "      <th>4</th>\n",
       "      <td>0.135120</td>\n",
       "      <td>0.079146</td>\n",
       "      <td>0.124656</td>\n",
       "      <td>0.078720</td>\n",
       "      <td>0.206045</td>\n",
       "      <td>0.127325</td>\n",
       "      <td>1.101174</td>\n",
       "      <td>4.333713</td>\n",
       "      <td>0.971955</td>\n",
       "      <td>0.783568</td>\n",
       "      <td>0.104261</td>\n",
       "      <td>0.135120</td>\n",
       "      <td>0.106398</td>\n",
       "      <td>0.016931</td>\n",
       "      <td>0.266667</td>\n",
       "      <td>0.712812</td>\n",
       "      <td>0.007812</td>\n",
       "      <td>5.484375</td>\n",
       "      <td>5.476562</td>\n",
       "      <td>0.208274</td>\n",
       "      <td>male</td>\n",
       "    </tr>\n",
       "  </tbody>\n",
       "</table>\n",
       "</div>"
      ],
      "text/plain": [
       "   meanfreq        sd    median       Q25       Q75       IQR       skew  \\\n",
       "0  0.059781  0.064241  0.032027  0.015071  0.090193  0.075122  12.863462   \n",
       "1  0.066009  0.067310  0.040229  0.019414  0.092666  0.073252  22.423285   \n",
       "2  0.077316  0.083829  0.036718  0.008701  0.131908  0.123207  30.757155   \n",
       "3  0.151228  0.072111  0.158011  0.096582  0.207955  0.111374   1.232831   \n",
       "4  0.135120  0.079146  0.124656  0.078720  0.206045  0.127325   1.101174   \n",
       "\n",
       "          kurt    sp.ent       sfm      mode  centroid   meanfun    minfun  \\\n",
       "0   274.402906  0.893369  0.491918  0.000000  0.059781  0.084279  0.015702   \n",
       "1   634.613855  0.892193  0.513724  0.000000  0.066009  0.107937  0.015826   \n",
       "2  1024.927705  0.846389  0.478905  0.000000  0.077316  0.098706  0.015656   \n",
       "3     4.177296  0.963322  0.727232  0.083878  0.151228  0.088965  0.017798   \n",
       "4     4.333713  0.971955  0.783568  0.104261  0.135120  0.106398  0.016931   \n",
       "\n",
       "     maxfun   meandom    mindom    maxdom   dfrange   modindx label  \n",
       "0  0.275862  0.007812  0.007812  0.007812  0.000000  0.000000  male  \n",
       "1  0.250000  0.009014  0.007812  0.054688  0.046875  0.052632  male  \n",
       "2  0.271186  0.007990  0.007812  0.015625  0.007812  0.046512  male  \n",
       "3  0.250000  0.201497  0.007812  0.562500  0.554688  0.247119  male  \n",
       "4  0.266667  0.712812  0.007812  5.484375  5.476562  0.208274  male  "
      ]
     },
     "execution_count": 2,
     "metadata": {},
     "output_type": "execute_result"
    }
   ],
   "source": [
    "df = pd.read_csv('Dataset/voice.csv')\n",
    "df.head()"
   ]
  },
  {
   "cell_type": "markdown",
   "id": "da30341c",
   "metadata": {},
   "source": [
    "## EDA"
   ]
  },
  {
   "cell_type": "markdown",
   "id": "0c5aa1d4",
   "metadata": {},
   "source": [
    "### Displaying the output labels"
   ]
  },
  {
   "cell_type": "code",
   "execution_count": 3,
   "id": "c3580ad4",
   "metadata": {
    "scrolled": true
   },
   "outputs": [
    {
     "name": "stdout",
     "output_type": "stream",
     "text": [
      "['male' 'female']\n"
     ]
    }
   ],
   "source": [
    "df_final = df.label.unique()\n",
    "print(df_final)"
   ]
  },
  {
   "cell_type": "markdown",
   "id": "31760db4",
   "metadata": {},
   "source": [
    "### Dataset Info"
   ]
  },
  {
   "cell_type": "code",
   "execution_count": 4,
   "id": "7491f563",
   "metadata": {
    "scrolled": true
   },
   "outputs": [
    {
     "data": {
      "text/plain": [
       "(3168, 21)"
      ]
     },
     "execution_count": 4,
     "metadata": {},
     "output_type": "execute_result"
    }
   ],
   "source": [
    "df.shape"
   ]
  },
  {
   "cell_type": "markdown",
   "id": "fe5fe09a",
   "metadata": {},
   "source": [
    "### Missing Value Check"
   ]
  },
  {
   "cell_type": "code",
   "execution_count": 5,
   "id": "7b06dc1f",
   "metadata": {
    "scrolled": true
   },
   "outputs": [
    {
     "data": {
      "text/plain": [
       "meanfreq    0\n",
       "sd          0\n",
       "median      0\n",
       "Q25         0\n",
       "Q75         0\n",
       "IQR         0\n",
       "skew        0\n",
       "kurt        0\n",
       "sp.ent      0\n",
       "sfm         0\n",
       "mode        0\n",
       "centroid    0\n",
       "meanfun     0\n",
       "minfun      0\n",
       "maxfun      0\n",
       "meandom     0\n",
       "mindom      0\n",
       "maxdom      0\n",
       "dfrange     0\n",
       "modindx     0\n",
       "label       0\n",
       "dtype: int64"
      ]
     },
     "execution_count": 5,
     "metadata": {},
     "output_type": "execute_result"
    }
   ],
   "source": [
    "df.isnull().sum()"
   ]
  },
  {
   "cell_type": "code",
   "execution_count": 6,
   "id": "dab56420",
   "metadata": {
    "scrolled": true
   },
   "outputs": [
    {
     "data": {
      "text/plain": [
       "<AxesSubplot:>"
      ]
     },
     "execution_count": 6,
     "metadata": {},
     "output_type": "execute_result"
    },
    {
     "data": {
      "image/png": "[encoded data removed]",
      "text/plain": [
       "<Figure size 1800x720 with 2 Axes>"
      ]
     },
     "metadata": {
      "needs_background": "light"
     },
     "output_type": "display_data"
    }
   ],
   "source": [
    "msno.matrix(df)"
   ]
  },
  {
   "cell_type": "markdown",
   "id": "7c1fa403",
   "metadata": {},
   "source": [
    "As it could be observed our dataset is free of any null values. Thereby, we could skip the null value handling and proceed ahead."
   ]
  },
  {
   "cell_type": "markdown",
   "id": "1b8b7d16",
   "metadata": {},
   "source": [
    "### Checking the data types"
   ]
  },
  {
   "cell_type": "code",
   "execution_count": 7,
   "id": "53a289c8",
   "metadata": {
    "scrolled": true
   },
   "outputs": [
    {
     "data": {
      "text/plain": [
       "meanfreq    float64\n",
       "sd          float64\n",
       "median      float64\n",
       "Q25         float64\n",
       "Q75         float64\n",
       "IQR         float64\n",
       "skew        float64\n",
       "kurt        float64\n",
       "sp.ent      float64\n",
       "sfm         float64\n",
       "mode        float64\n",
       "centroid    float64\n",
       "meanfun     float64\n",
       "minfun      float64\n",
       "maxfun      float64\n",
       "meandom     float64\n",
       "mindom      float64\n",
       "maxdom      float64\n",
       "dfrange     float64\n",
       "modindx     float64\n",
       "label        object\n",
       "dtype: object"
      ]
     },
     "execution_count": 7,
     "metadata": {},
     "output_type": "execute_result"
    }
   ],
   "source": [
    "df.dtypes"
   ]
  },
  {
   "cell_type": "code",
   "execution_count": 8,
   "id": "b7dcefb4",
   "metadata": {
    "scrolled": true
   },
   "outputs": [
    {
     "name": "stdout",
     "output_type": "stream",
     "text": [
      "Number of numerical variables:  20\n"
     ]
    },
    {
     "data": {
      "text/html": [
       "<div>\n",
       "<style scoped>\n",
       "    .dataframe tbody tr th:only-of-type {\n",
       "        vertical-align: middle;\n",
       "    }\n",
       "\n",
       "    .dataframe tbody tr th {\n",
       "        vertical-align: top;\n",
       "    }\n",
       "\n",
       "    .dataframe thead th {\n",
       "        text-align: right;\n",
       "    }\n",
       "</style>\n",
       "<table border=\"1\" class=\"dataframe\">\n",
       "  <thead>\n",
       "    <tr style=\"text-align: right;\">\n",
       "      <th></th>\n",
       "      <th>meanfreq</th>\n",
       "      <th>sd</th>\n",
       "      <th>median</th>\n",
       "      <th>Q25</th>\n",
       "      <th>Q75</th>\n",
       "      <th>IQR</th>\n",
       "      <th>skew</th>\n",
       "      <th>kurt</th>\n",
       "      <th>sp.ent</th>\n",
       "      <th>sfm</th>\n",
       "      <th>mode</th>\n",
       "      <th>centroid</th>\n",
       "      <th>meanfun</th>\n",
       "      <th>minfun</th>\n",
       "      <th>maxfun</th>\n",
       "      <th>meandom</th>\n",
       "      <th>mindom</th>\n",
       "      <th>maxdom</th>\n",
       "      <th>dfrange</th>\n",
       "      <th>modindx</th>\n",
       "    </tr>\n",
       "  </thead>\n",
       "  <tbody>\n",
       "    <tr>\n",
       "      <th>0</th>\n",
       "      <td>0.059781</td>\n",
       "      <td>0.064241</td>\n",
       "      <td>0.032027</td>\n",
       "      <td>0.015071</td>\n",
       "      <td>0.090193</td>\n",
       "      <td>0.075122</td>\n",
       "      <td>12.863462</td>\n",
       "      <td>274.402906</td>\n",
       "      <td>0.893369</td>\n",
       "      <td>0.491918</td>\n",
       "      <td>0.000000</td>\n",
       "      <td>0.059781</td>\n",
       "      <td>0.084279</td>\n",
       "      <td>0.015702</td>\n",
       "      <td>0.275862</td>\n",
       "      <td>0.007812</td>\n",
       "      <td>0.007812</td>\n",
       "      <td>0.007812</td>\n",
       "      <td>0.000000</td>\n",
       "      <td>0.000000</td>\n",
       "    </tr>\n",
       "    <tr>\n",
       "      <th>1</th>\n",
       "      <td>0.066009</td>\n",
       "      <td>0.067310</td>\n",
       "      <td>0.040229</td>\n",
       "      <td>0.019414</td>\n",
       "      <td>0.092666</td>\n",
       "      <td>0.073252</td>\n",
       "      <td>22.423285</td>\n",
       "      <td>634.613855</td>\n",
       "      <td>0.892193</td>\n",
       "      <td>0.513724</td>\n",
       "      <td>0.000000</td>\n",
       "      <td>0.066009</td>\n",
       "      <td>0.107937</td>\n",
       "      <td>0.015826</td>\n",
       "      <td>0.250000</td>\n",
       "      <td>0.009014</td>\n",
       "      <td>0.007812</td>\n",
       "      <td>0.054688</td>\n",
       "      <td>0.046875</td>\n",
       "      <td>0.052632</td>\n",
       "    </tr>\n",
       "    <tr>\n",
       "      <th>2</th>\n",
       "      <td>0.077316</td>\n",
       "      <td>0.083829</td>\n",
       "      <td>0.036718</td>\n",
       "      <td>0.008701</td>\n",
       "      <td>0.131908</td>\n",
       "      <td>0.123207</td>\n",
       "      <td>30.757155</td>\n",
       "      <td>1024.927705</td>\n",
       "      <td>0.846389</td>\n",
       "      <td>0.478905</td>\n",
       "      <td>0.000000</td>\n",
       "      <td>0.077316</td>\n",
       "      <td>0.098706</td>\n",
       "      <td>0.015656</td>\n",
       "      <td>0.271186</td>\n",
       "      <td>0.007990</td>\n",
       "      <td>0.007812</td>\n",
       "      <td>0.015625</td>\n",
       "      <td>0.007812</td>\n",
       "      <td>0.046512</td>\n",
       "    </tr>\n",
       "    <tr>\n",
       "      <th>3</th>\n",
       "      <td>0.151228</td>\n",
       "      <td>0.072111</td>\n",
       "      <td>0.158011</td>\n",
       "      <td>0.096582</td>\n",
       "      <td>0.207955</td>\n",
       "      <td>0.111374</td>\n",
       "      <td>1.232831</td>\n",
       "      <td>4.177296</td>\n",
       "      <td>0.963322</td>\n",
       "      <td>0.727232</td>\n",
       "      <td>0.083878</td>\n",
       "      <td>0.151228</td>\n",
       "      <td>0.088965</td>\n",
       "      <td>0.017798</td>\n",
       "      <td>0.250000</td>\n",
       "      <td>0.201497</td>\n",
       "      <td>0.007812</td>\n",
       "      <td>0.562500</td>\n",
       "      <td>0.554688</td>\n",
       "      <td>0.247119</td>\n",
       "    </tr>\n",
       "    <tr>\n",
       "      <th>4</th>\n",
       "      <td>0.135120</td>\n",
       "      <td>0.079146</td>\n",
       "      <td>0.124656</td>\n",
       "      <td>0.078720</td>\n",
       "      <td>0.206045</td>\n",
       "      <td>0.127325</td>\n",
       "      <td>1.101174</td>\n",
       "      <td>4.333713</td>\n",
       "      <td>0.971955</td>\n",
       "      <td>0.783568</td>\n",
       "      <td>0.104261</td>\n",
       "      <td>0.135120</td>\n",
       "      <td>0.106398</td>\n",
       "      <td>0.016931</td>\n",
       "      <td>0.266667</td>\n",
       "      <td>0.712812</td>\n",
       "      <td>0.007812</td>\n",
       "      <td>5.484375</td>\n",
       "      <td>5.476562</td>\n",
       "      <td>0.208274</td>\n",
       "    </tr>\n",
       "  </tbody>\n",
       "</table>\n",
       "</div>"
      ],
      "text/plain": [
       "   meanfreq        sd    median       Q25       Q75       IQR       skew  \\\n",
       "0  0.059781  0.064241  0.032027  0.015071  0.090193  0.075122  12.863462   \n",
       "1  0.066009  0.067310  0.040229  0.019414  0.092666  0.073252  22.423285   \n",
       "2  0.077316  0.083829  0.036718  0.008701  0.131908  0.123207  30.757155   \n",
       "3  0.151228  0.072111  0.158011  0.096582  0.207955  0.111374   1.232831   \n",
       "4  0.135120  0.079146  0.124656  0.078720  0.206045  0.127325   1.101174   \n",
       "\n",
       "          kurt    sp.ent       sfm      mode  centroid   meanfun    minfun  \\\n",
       "0   274.402906  0.893369  0.491918  0.000000  0.059781  0.084279  0.015702   \n",
       "1   634.613855  0.892193  0.513724  0.000000  0.066009  0.107937  0.015826   \n",
       "2  1024.927705  0.846389  0.478905  0.000000  0.077316  0.098706  0.015656   \n",
       "3     4.177296  0.963322  0.727232  0.083878  0.151228  0.088965  0.017798   \n",
       "4     4.333713  0.971955  0.783568  0.104261  0.135120  0.106398  0.016931   \n",
       "\n",
       "     maxfun   meandom    mindom    maxdom   dfrange   modindx  \n",
       "0  0.275862  0.007812  0.007812  0.007812  0.000000  0.000000  \n",
       "1  0.250000  0.009014  0.007812  0.054688  0.046875  0.052632  \n",
       "2  0.271186  0.007990  0.007812  0.015625  0.007812  0.046512  \n",
       "3  0.250000  0.201497  0.007812  0.562500  0.554688  0.247119  \n",
       "4  0.266667  0.712812  0.007812  5.484375  5.476562  0.208274  "
      ]
     },
     "execution_count": 8,
     "metadata": {},
     "output_type": "execute_result"
    }
   ],
   "source": [
    "numerical_features = [feature for feature in df.columns if df[feature].dtypes != 'O']\n",
    "print('Number of numerical variables: ', len(numerical_features))\n",
    "df[numerical_features].head()"
   ]
  },
  {
   "cell_type": "markdown",
   "id": "b55212f3",
   "metadata": {},
   "source": [
    "It could be inferred that apart from the output feature which is categorical, all other input features are numerical."
   ]
  },
  {
   "cell_type": "code",
   "execution_count": 9,
   "id": "25580169",
   "metadata": {
    "scrolled": false
   },
   "outputs": [
    {
     "name": "stdout",
     "output_type": "stream",
     "text": [
      "The meanfreq has 3166 unique values\n",
      "The sd has 3166 unique values\n",
      "The median has 3077 unique values\n",
      "The Q25 has 3103 unique values\n",
      "The Q75 has 3034 unique values\n",
      "The IQR has 3073 unique values\n",
      "The skew has 3166 unique values\n",
      "The kurt has 3166 unique values\n",
      "The sp.ent has 3166 unique values\n",
      "The sfm has 3166 unique values\n",
      "The mode has 2825 unique values\n",
      "The centroid has 3166 unique values\n",
      "The meanfun has 3166 unique values\n",
      "The minfun has 913 unique values\n",
      "The maxfun has 123 unique values\n",
      "The meandom has 2999 unique values\n",
      "The mindom has 77 unique values\n",
      "The maxdom has 1054 unique values\n",
      "The dfrange has 1091 unique values\n",
      "The modindx has 3079 unique values\n"
     ]
    }
   ],
   "source": [
    "for i, value in enumerate(numerical_features):\n",
    "    print(f'The {value} has {len(df[numerical_features[i]].unique())} unique values')"
   ]
  },
  {
   "cell_type": "markdown",
   "id": "15858caf",
   "metadata": {},
   "source": [
    "So, we can safely say that none of the input numerical features are discrete due to the high number of unique values. So it could be considered as continuous."
   ]
  },
  {
   "cell_type": "code",
   "execution_count": 10,
   "id": "7d01c09c",
   "metadata": {
    "scrolled": true
   },
   "outputs": [
    {
     "data": {
      "text/plain": [
       "['meanfreq',\n",
       " 'sd',\n",
       " 'median',\n",
       " 'Q25',\n",
       " 'Q75',\n",
       " 'IQR',\n",
       " 'skew',\n",
       " 'kurt',\n",
       " 'sp.ent',\n",
       " 'sfm',\n",
       " 'mode',\n",
       " 'centroid',\n",
       " 'meanfun',\n",
       " 'minfun',\n",
       " 'maxfun',\n",
       " 'meandom',\n",
       " 'mindom',\n",
       " 'maxdom',\n",
       " 'dfrange',\n",
       " 'modindx']"
      ]
     },
     "execution_count": 10,
     "metadata": {},
     "output_type": "execute_result"
    }
   ],
   "source": [
    "numerical_features"
   ]
  },
  {
   "cell_type": "markdown",
   "id": "db00230f",
   "metadata": {},
   "source": [
    "### Visualizing the continuous features"
   ]
  },
  {
   "cell_type": "code",
   "execution_count": 11,
   "id": "339ed43e",
   "metadata": {
    "scrolled": true
   },
   "outputs": [
    {
     "data": {
      "image/png": "[encoded data removed]",
      "text/plain": [
       "<Figure size 432x288 with 1 Axes>"
      ]
     },
     "metadata": {
      "needs_background": "light"
     },
     "output_type": "display_data"
    },
    {
     "data": {
      "image/png": "[encoded data removed]",
      "text/plain": [
       "<Figure size 432x288 with 1 Axes>"
      ]
     },
     "metadata": {
      "needs_background": "light"
     },
     "output_type": "display_data"
    },
    {
     "data": {
      "image/png": "[encoded data removed]",
      "text/plain": [
       "<Figure size 432x288 with 1 Axes>"
      ]
     },
     "metadata": {
      "needs_background": "light"
     },
     "output_type": "display_data"
    },
    {
     "data": {
      "image/png": "[encoded data removed]",
      "text/plain": [
       "<Figure size 432x288 with 1 Axes>"
      ]
     },
     "metadata": {
      "needs_background": "light"
     },
     "output_type": "display_data"
    },
    {
     "data": {
      "image/png": "[encoded data removed]",
      "text/plain": [
       "<Figure size 432x288 with 1 Axes>"
      ]
     },
     "metadata": {
      "needs_background": "light"
     },
     "output_type": "display_data"
    },
    {
     "data": {
      "image/png": "[encoded data removed]",
      "text/plain": [
       "<Figure size 432x288 with 1 Axes>"
      ]
     },
     "metadata": {
      "needs_background": "light"
     },
     "output_type": "display_data"
    },
    {
     "data": {
      "image/png": "[encoded data removed]",
      "text/plain": [
       "<Figure size 432x288 with 1 Axes>"
      ]
     },
     "metadata": {
      "needs_background": "light"
     },
     "output_type": "display_data"
    },
    {
     "data": {
      "image/png": "[encoded data removed]",
      "text/plain": [
       "<Figure size 432x288 with 1 Axes>"
      ]
     },
     "metadata": {
      "needs_background": "light"
     },
     "output_type": "display_data"
    },
    {
     "data": {
      "image/png": "[encoded data removed]",
      "text/plain": [
       "<Figure size 432x288 with 1 Axes>"
      ]
     },
     "metadata": {
      "needs_background": "light"
     },
     "output_type": "display_data"
    },
    {
     "data": {
      "image/png": "[encoded data removed]",
      "text/plain": [
       "<Figure size 432x288 with 1 Axes>"
      ]
     },
     "metadata": {
      "needs_background": "light"
     },
     "output_type": "display_data"
    },
    {
     "data": {
      "image/png": "[encoded data removed]",
      "text/plain": [
       "<Figure size 432x288 with 1 Axes>"
      ]
     },
     "metadata": {
      "needs_background": "light"
     },
     "output_type": "display_data"
    },
    {
     "data": {
      "image/png": "[encoded data removed]",
      "text/plain": [
       "<Figure size 432x288 with 1 Axes>"
      ]
     },
     "metadata": {
      "needs_background": "light"
     },
     "output_type": "display_data"
    },
    {
     "data": {
      "image/png": "[encoded data removed]",
      "text/plain": [
       "<Figure size 432x288 with 1 Axes>"
      ]
     },
     "metadata": {
      "needs_background": "light"
     },
     "output_type": "display_data"
    },
    {
     "data": {
      "image/png": "[encoded data removed]",
      "text/plain": [
       "<Figure size 432x288 with 1 Axes>"
      ]
     },
     "metadata": {
      "needs_background": "light"
     },
     "output_type": "display_data"
    },
    {
     "data": {
      "image/png": "[encoded data removed]",
      "text/plain": [
       "<Figure size 432x288 with 1 Axes>"
      ]
     },
     "metadata": {
      "needs_background": "light"
     },
     "output_type": "display_data"
    },
    {
     "data": {
      "image/png": "[encoded data removed]",
      "text/plain": [
       "<Figure size 432x288 with 1 Axes>"
      ]
     },
     "metadata": {
      "needs_background": "light"
     },
     "output_type": "display_data"
    },
    {
     "data": {
      "image/png": "[encoded data removed]",
      "text/plain": [
       "<Figure size 432x288 with 1 Axes>"
      ]
     },
     "metadata": {
      "needs_background": "light"
     },
     "output_type": "display_data"
    },
    {
     "data": {
      "image/png": "[encoded data removed]",
      "text/plain": [
       "<Figure size 432x288 with 1 Axes>"
      ]
     },
     "metadata": {
      "needs_background": "light"
     },
     "output_type": "display_data"
    },
    {
     "data": {
      "image/png": "[encoded data removed]",
      "text/plain": [
       "<Figure size 432x288 with 1 Axes>"
      ]
     },
     "metadata": {
      "needs_background": "light"
     },
     "output_type": "display_data"
    },
    {
     "data": {
      "image/png": "[encoded data removed]",
      "text/plain": [
       "<Figure size 432x288 with 1 Axes>"
      ]
     },
     "metadata": {
      "needs_background": "light"
     },
     "output_type": "display_data"
    }
   ],
   "source": [
    "for feature in numerical_features:\n",
    "    data=df.copy()\n",
    "    data[feature].hist(bins=25)\n",
    "    plt.xlabel(feature)\n",
    "    plt.ylabel(\"Gender\")\n",
    "    plt.title(feature)\n",
    "    plt.show()"
   ]
  },
  {
   "cell_type": "markdown",
   "id": "689e8980",
   "metadata": {},
   "source": [
    "### Outlier distribution check"
   ]
  },
  {
   "cell_type": "code",
   "execution_count": 12,
   "id": "651acad9",
   "metadata": {
    "scrolled": true
   },
   "outputs": [
    {
     "data": {
      "image/png": "[encoded data removed]",
      "text/plain": [
       "<Figure size 432x288 with 1 Axes>"
      ]
     },
     "metadata": {
      "needs_background": "light"
     },
     "output_type": "display_data"
    },
    {
     "data": {
      "image/png": "[encoded data removed]",
      "text/plain": [
       "<Figure size 432x288 with 1 Axes>"
      ]
     },
     "metadata": {
      "needs_background": "light"
     },
     "output_type": "display_data"
    },
    {
     "data": {
      "image/png": "[encoded data removed]",
      "text/plain": [
       "<Figure size 432x288 with 1 Axes>"
      ]
     },
     "metadata": {
      "needs_background": "light"
     },
     "output_type": "display_data"
    },
    {
     "data": {
      "image/png": "[encoded data removed]",
      "text/plain": [
       "<Figure size 432x288 with 1 Axes>"
      ]
     },
     "metadata": {
      "needs_background": "light"
     },
     "output_type": "display_data"
    },
    {
     "data": {
      "image/png": "[encoded data removed]",
      "text/plain": [
       "<Figure size 432x288 with 1 Axes>"
      ]
     },
     "metadata": {
      "needs_background": "light"
     },
     "output_type": "display_data"
    },
    {
     "data": {
      "image/png": "[encoded data removed]",
      "text/plain": [
       "<Figure size 432x288 with 1 Axes>"
      ]
     },
     "metadata": {
      "needs_background": "light"
     },
     "output_type": "display_data"
    },
    {
     "data": {
      "image/png": "[encoded data removed]",
      "text/plain": [
       "<Figure size 432x288 with 1 Axes>"
      ]
     },
     "metadata": {
      "needs_background": "light"
     },
     "output_type": "display_data"
    },
    {
     "data": {
      "image/png": "[encoded data removed]",
      "text/plain": [
       "<Figure size 432x288 with 1 Axes>"
      ]
     },
     "metadata": {
      "needs_background": "light"
     },
     "output_type": "display_data"
    },
    {
     "data": {
      "image/png": "[encoded data removed]",
      "text/plain": [
       "<Figure size 432x288 with 1 Axes>"
      ]
     },
     "metadata": {
      "needs_background": "light"
     },
     "output_type": "display_data"
    },
    {
     "data": {
      "image/png": "[encoded data removed]",
      "text/plain": [
       "<Figure size 432x288 with 1 Axes>"
      ]
     },
     "metadata": {
      "needs_background": "light"
     },
     "output_type": "display_data"
    },
    {
     "data": {
      "image/png": "[encoded data removed]",
      "text/plain": [
       "<Figure size 432x288 with 1 Axes>"
      ]
     },
     "metadata": {
      "needs_background": "light"
     },
     "output_type": "display_data"
    },
    {
     "data": {
      "image/png": "[encoded data removed]",
      "text/plain": [
       "<Figure size 432x288 with 1 Axes>"
      ]
     },
     "metadata": {
      "needs_background": "light"
     },
     "output_type": "display_data"
    },
    {
     "data": {
      "image/png": "[encoded data removed]",
      "text/plain": [
       "<Figure size 432x288 with 1 Axes>"
      ]
     },
     "metadata": {
      "needs_background": "light"
     },
     "output_type": "display_data"
    },
    {
     "data": {
      "image/png": "[encoded data removed]",
      "text/plain": [
       "<Figure size 432x288 with 1 Axes>"
      ]
     },
     "metadata": {
      "needs_background": "light"
     },
     "output_type": "display_data"
    },
    {
     "data": {
      "image/png": "[encoded data removed]",
      "text/plain": [
       "<Figure size 432x288 with 1 Axes>"
      ]
     },
     "metadata": {
      "needs_background": "light"
     },
     "output_type": "display_data"
    },
    {
     "data": {
      "image/png": "[encoded data removed]",
      "text/plain": [
       "<Figure size 432x288 with 1 Axes>"
      ]
     },
     "metadata": {
      "needs_background": "light"
     },
     "output_type": "display_data"
    },
    {
     "data": {
      "image/png": "[encoded data removed]",
      "text/plain": [
       "<Figure size 432x288 with 1 Axes>"
      ]
     },
     "metadata": {
      "needs_background": "light"
     },
     "output_type": "display_data"
    }
   ],
   "source": [
    "for feature in numerical_features:\n",
    "    data=df.copy()\n",
    "    if 0 in data[feature].unique():\n",
    "        pass\n",
    "    else:\n",
    "        data[feature]=np.log(data[feature])\n",
    "        data.boxplot(column=feature)\n",
    "        plt.ylabel(feature)\n",
    "        plt.title(feature)\n",
    "        plt.show()"
   ]
  },
  {
   "cell_type": "markdown",
   "id": "35706769",
   "metadata": {},
   "source": [
    "It could be seen that all the features apart from Inter Quanrtile Range (IQR) have outliers."
   ]
  },
  {
   "cell_type": "markdown",
   "id": "67c339e7",
   "metadata": {},
   "source": [
    "### Class Distribution check"
   ]
  },
  {
   "cell_type": "code",
   "execution_count": 13,
   "id": "8efb0a2e",
   "metadata": {
    "scrolled": true
   },
   "outputs": [
    {
     "data": {
      "text/plain": [
       "[Text(0.5, 1.0, 'Distribution of Gender')]"
      ]
     },
     "execution_count": 13,
     "metadata": {},
     "output_type": "execute_result"
    },
    {
     "data": {
      "image/png": "[encoded data removed]",
      "text/plain": [
       "<Figure size 432x288 with 1 Axes>"
      ]
     },
     "metadata": {
      "needs_background": "light"
     },
     "output_type": "display_data"
    }
   ],
   "source": [
    "sns.countplot(x = 'label',data = df).set(title = 'Distribution of Gender')"
   ]
  },
  {
   "cell_type": "markdown",
   "id": "65e4df91",
   "metadata": {},
   "source": [
    "The labels of male and female being equal corresponds to the dataset being free of class imbalance."
   ]
  },
  {
   "cell_type": "markdown",
   "id": "9c189c33",
   "metadata": {},
   "source": [
    "## Performing One Hot Encoding"
   ]
  },
  {
   "cell_type": "code",
   "execution_count": 14,
   "id": "0cb0a10a",
   "metadata": {
    "scrolled": true
   },
   "outputs": [
    {
     "data": {
      "text/html": [
       "<div>\n",
       "<style scoped>\n",
       "    .dataframe tbody tr th:only-of-type {\n",
       "        vertical-align: middle;\n",
       "    }\n",
       "\n",
       "    .dataframe tbody tr th {\n",
       "        vertical-align: top;\n",
       "    }\n",
       "\n",
       "    .dataframe thead th {\n",
       "        text-align: right;\n",
       "    }\n",
       "</style>\n",
       "<table border=\"1\" class=\"dataframe\">\n",
       "  <thead>\n",
       "    <tr style=\"text-align: right;\">\n",
       "      <th></th>\n",
       "      <th>meanfreq</th>\n",
       "      <th>sd</th>\n",
       "      <th>median</th>\n",
       "      <th>Q25</th>\n",
       "      <th>Q75</th>\n",
       "      <th>IQR</th>\n",
       "      <th>skew</th>\n",
       "      <th>kurt</th>\n",
       "      <th>sp.ent</th>\n",
       "      <th>sfm</th>\n",
       "      <th>mode</th>\n",
       "      <th>centroid</th>\n",
       "      <th>meanfun</th>\n",
       "      <th>minfun</th>\n",
       "      <th>maxfun</th>\n",
       "      <th>meandom</th>\n",
       "      <th>mindom</th>\n",
       "      <th>maxdom</th>\n",
       "      <th>dfrange</th>\n",
       "      <th>modindx</th>\n",
       "      <th>label_female</th>\n",
       "      <th>label_male</th>\n",
       "    </tr>\n",
       "  </thead>\n",
       "  <tbody>\n",
       "    <tr>\n",
       "      <th>0</th>\n",
       "      <td>0.059781</td>\n",
       "      <td>0.064241</td>\n",
       "      <td>0.032027</td>\n",
       "      <td>0.015071</td>\n",
       "      <td>0.090193</td>\n",
       "      <td>0.075122</td>\n",
       "      <td>12.863462</td>\n",
       "      <td>274.402906</td>\n",
       "      <td>0.893369</td>\n",
       "      <td>0.491918</td>\n",
       "      <td>0.000000</td>\n",
       "      <td>0.059781</td>\n",
       "      <td>0.084279</td>\n",
       "      <td>0.015702</td>\n",
       "      <td>0.275862</td>\n",
       "      <td>0.007812</td>\n",
       "      <td>0.007812</td>\n",
       "      <td>0.007812</td>\n",
       "      <td>0.000000</td>\n",
       "      <td>0.000000</td>\n",
       "      <td>0</td>\n",
       "      <td>1</td>\n",
       "    </tr>\n",
       "    <tr>\n",
       "      <th>1</th>\n",
       "      <td>0.066009</td>\n",
       "      <td>0.067310</td>\n",
       "      <td>0.040229</td>\n",
       "      <td>0.019414</td>\n",
       "      <td>0.092666</td>\n",
       "      <td>0.073252</td>\n",
       "      <td>22.423285</td>\n",
       "      <td>634.613855</td>\n",
       "      <td>0.892193</td>\n",
       "      <td>0.513724</td>\n",
       "      <td>0.000000</td>\n",
       "      <td>0.066009</td>\n",
       "      <td>0.107937</td>\n",
       "      <td>0.015826</td>\n",
       "      <td>0.250000</td>\n",
       "      <td>0.009014</td>\n",
       "      <td>0.007812</td>\n",
       "      <td>0.054688</td>\n",
       "      <td>0.046875</td>\n",
       "      <td>0.052632</td>\n",
       "      <td>0</td>\n",
       "      <td>1</td>\n",
       "    </tr>\n",
       "    <tr>\n",
       "      <th>2</th>\n",
       "      <td>0.077316</td>\n",
       "      <td>0.083829</td>\n",
       "      <td>0.036718</td>\n",
       "      <td>0.008701</td>\n",
       "      <td>0.131908</td>\n",
       "      <td>0.123207</td>\n",
       "      <td>30.757155</td>\n",
       "      <td>1024.927705</td>\n",
       "      <td>0.846389</td>\n",
       "      <td>0.478905</td>\n",
       "      <td>0.000000</td>\n",
       "      <td>0.077316</td>\n",
       "      <td>0.098706</td>\n",
       "      <td>0.015656</td>\n",
       "      <td>0.271186</td>\n",
       "      <td>0.007990</td>\n",
       "      <td>0.007812</td>\n",
       "      <td>0.015625</td>\n",
       "      <td>0.007812</td>\n",
       "      <td>0.046512</td>\n",
       "      <td>0</td>\n",
       "      <td>1</td>\n",
       "    </tr>\n",
       "    <tr>\n",
       "      <th>3</th>\n",
       "      <td>0.151228</td>\n",
       "      <td>0.072111</td>\n",
       "      <td>0.158011</td>\n",
       "      <td>0.096582</td>\n",
       "      <td>0.207955</td>\n",
       "      <td>0.111374</td>\n",
       "      <td>1.232831</td>\n",
       "      <td>4.177296</td>\n",
       "      <td>0.963322</td>\n",
       "      <td>0.727232</td>\n",
       "      <td>0.083878</td>\n",
       "      <td>0.151228</td>\n",
       "      <td>0.088965</td>\n",
       "      <td>0.017798</td>\n",
       "      <td>0.250000</td>\n",
       "      <td>0.201497</td>\n",
       "      <td>0.007812</td>\n",
       "      <td>0.562500</td>\n",
       "      <td>0.554688</td>\n",
       "      <td>0.247119</td>\n",
       "      <td>0</td>\n",
       "      <td>1</td>\n",
       "    </tr>\n",
       "    <tr>\n",
       "      <th>4</th>\n",
       "      <td>0.135120</td>\n",
       "      <td>0.079146</td>\n",
       "      <td>0.124656</td>\n",
       "      <td>0.078720</td>\n",
       "      <td>0.206045</td>\n",
       "      <td>0.127325</td>\n",
       "      <td>1.101174</td>\n",
       "      <td>4.333713</td>\n",
       "      <td>0.971955</td>\n",
       "      <td>0.783568</td>\n",
       "      <td>0.104261</td>\n",
       "      <td>0.135120</td>\n",
       "      <td>0.106398</td>\n",
       "      <td>0.016931</td>\n",
       "      <td>0.266667</td>\n",
       "      <td>0.712812</td>\n",
       "      <td>0.007812</td>\n",
       "      <td>5.484375</td>\n",
       "      <td>5.476562</td>\n",
       "      <td>0.208274</td>\n",
       "      <td>0</td>\n",
       "      <td>1</td>\n",
       "    </tr>\n",
       "  </tbody>\n",
       "</table>\n",
       "</div>"
      ],
      "text/plain": [
       "   meanfreq        sd    median       Q25       Q75       IQR       skew  \\\n",
       "0  0.059781  0.064241  0.032027  0.015071  0.090193  0.075122  12.863462   \n",
       "1  0.066009  0.067310  0.040229  0.019414  0.092666  0.073252  22.423285   \n",
       "2  0.077316  0.083829  0.036718  0.008701  0.131908  0.123207  30.757155   \n",
       "3  0.151228  0.072111  0.158011  0.096582  0.207955  0.111374   1.232831   \n",
       "4  0.135120  0.079146  0.124656  0.078720  0.206045  0.127325   1.101174   \n",
       "\n",
       "          kurt    sp.ent       sfm      mode  centroid   meanfun    minfun  \\\n",
       "0   274.402906  0.893369  0.491918  0.000000  0.059781  0.084279  0.015702   \n",
       "1   634.613855  0.892193  0.513724  0.000000  0.066009  0.107937  0.015826   \n",
       "2  1024.927705  0.846389  0.478905  0.000000  0.077316  0.098706  0.015656   \n",
       "3     4.177296  0.963322  0.727232  0.083878  0.151228  0.088965  0.017798   \n",
       "4     4.333713  0.971955  0.783568  0.104261  0.135120  0.106398  0.016931   \n",
       "\n",
       "     maxfun   meandom    mindom    maxdom   dfrange   modindx  label_female  \\\n",
       "0  0.275862  0.007812  0.007812  0.007812  0.000000  0.000000             0   \n",
       "1  0.250000  0.009014  0.007812  0.054688  0.046875  0.052632             0   \n",
       "2  0.271186  0.007990  0.007812  0.015625  0.007812  0.046512             0   \n",
       "3  0.250000  0.201497  0.007812  0.562500  0.554688  0.247119             0   \n",
       "4  0.266667  0.712812  0.007812  5.484375  5.476562  0.208274             0   \n",
       "\n",
       "   label_male  \n",
       "0           1  \n",
       "1           1  \n",
       "2           1  \n",
       "3           1  \n",
       "4           1  "
      ]
     },
     "execution_count": 14,
     "metadata": {},
     "output_type": "execute_result"
    }
   ],
   "source": [
    "df = pd.get_dummies(df, columns = ['label'])\n",
    "df.head()"
   ]
  },
  {
   "cell_type": "code",
   "execution_count": 15,
   "id": "8c152f1d",
   "metadata": {
    "scrolled": true
   },
   "outputs": [],
   "source": [
    "df = df.drop('label_female', axis = 1)"
   ]
  },
  {
   "cell_type": "markdown",
   "id": "1c987e74",
   "metadata": {},
   "source": [
    "We have performed one hot encoding on the output label and dropped one of the features (as male and female have opposite labels)."
   ]
  },
  {
   "cell_type": "markdown",
   "id": "aa66f13c",
   "metadata": {},
   "source": [
    "## Splitting the dataset"
   ]
  },
  {
   "cell_type": "code",
   "execution_count": 16,
   "id": "5373f0dd",
   "metadata": {
    "scrolled": true
   },
   "outputs": [
    {
     "data": {
      "text/html": [
       "<div>\n",
       "<style scoped>\n",
       "    .dataframe tbody tr th:only-of-type {\n",
       "        vertical-align: middle;\n",
       "    }\n",
       "\n",
       "    .dataframe tbody tr th {\n",
       "        vertical-align: top;\n",
       "    }\n",
       "\n",
       "    .dataframe thead th {\n",
       "        text-align: right;\n",
       "    }\n",
       "</style>\n",
       "<table border=\"1\" class=\"dataframe\">\n",
       "  <thead>\n",
       "    <tr style=\"text-align: right;\">\n",
       "      <th></th>\n",
       "      <th>meanfreq</th>\n",
       "      <th>sd</th>\n",
       "      <th>median</th>\n",
       "      <th>Q25</th>\n",
       "      <th>Q75</th>\n",
       "      <th>IQR</th>\n",
       "      <th>skew</th>\n",
       "      <th>kurt</th>\n",
       "      <th>sp.ent</th>\n",
       "      <th>sfm</th>\n",
       "      <th>mode</th>\n",
       "      <th>centroid</th>\n",
       "      <th>meanfun</th>\n",
       "      <th>minfun</th>\n",
       "      <th>maxfun</th>\n",
       "      <th>meandom</th>\n",
       "      <th>mindom</th>\n",
       "      <th>maxdom</th>\n",
       "      <th>dfrange</th>\n",
       "      <th>modindx</th>\n",
       "    </tr>\n",
       "  </thead>\n",
       "  <tbody>\n",
       "    <tr>\n",
       "      <th>0</th>\n",
       "      <td>0.059781</td>\n",
       "      <td>0.064241</td>\n",
       "      <td>0.032027</td>\n",
       "      <td>0.015071</td>\n",
       "      <td>0.090193</td>\n",
       "      <td>0.075122</td>\n",
       "      <td>12.863462</td>\n",
       "      <td>274.402906</td>\n",
       "      <td>0.893369</td>\n",
       "      <td>0.491918</td>\n",
       "      <td>0.000000</td>\n",
       "      <td>0.059781</td>\n",
       "      <td>0.084279</td>\n",
       "      <td>0.015702</td>\n",
       "      <td>0.275862</td>\n",
       "      <td>0.007812</td>\n",
       "      <td>0.007812</td>\n",
       "      <td>0.007812</td>\n",
       "      <td>0.000000</td>\n",
       "      <td>0.000000</td>\n",
       "    </tr>\n",
       "    <tr>\n",
       "      <th>1</th>\n",
       "      <td>0.066009</td>\n",
       "      <td>0.067310</td>\n",
       "      <td>0.040229</td>\n",
       "      <td>0.019414</td>\n",
       "      <td>0.092666</td>\n",
       "      <td>0.073252</td>\n",
       "      <td>22.423285</td>\n",
       "      <td>634.613855</td>\n",
       "      <td>0.892193</td>\n",
       "      <td>0.513724</td>\n",
       "      <td>0.000000</td>\n",
       "      <td>0.066009</td>\n",
       "      <td>0.107937</td>\n",
       "      <td>0.015826</td>\n",
       "      <td>0.250000</td>\n",
       "      <td>0.009014</td>\n",
       "      <td>0.007812</td>\n",
       "      <td>0.054688</td>\n",
       "      <td>0.046875</td>\n",
       "      <td>0.052632</td>\n",
       "    </tr>\n",
       "    <tr>\n",
       "      <th>2</th>\n",
       "      <td>0.077316</td>\n",
       "      <td>0.083829</td>\n",
       "      <td>0.036718</td>\n",
       "      <td>0.008701</td>\n",
       "      <td>0.131908</td>\n",
       "      <td>0.123207</td>\n",
       "      <td>30.757155</td>\n",
       "      <td>1024.927705</td>\n",
       "      <td>0.846389</td>\n",
       "      <td>0.478905</td>\n",
       "      <td>0.000000</td>\n",
       "      <td>0.077316</td>\n",
       "      <td>0.098706</td>\n",
       "      <td>0.015656</td>\n",
       "      <td>0.271186</td>\n",
       "      <td>0.007990</td>\n",
       "      <td>0.007812</td>\n",
       "      <td>0.015625</td>\n",
       "      <td>0.007812</td>\n",
       "      <td>0.046512</td>\n",
       "    </tr>\n",
       "    <tr>\n",
       "      <th>3</th>\n",
       "      <td>0.151228</td>\n",
       "      <td>0.072111</td>\n",
       "      <td>0.158011</td>\n",
       "      <td>0.096582</td>\n",
       "      <td>0.207955</td>\n",
       "      <td>0.111374</td>\n",
       "      <td>1.232831</td>\n",
       "      <td>4.177296</td>\n",
       "      <td>0.963322</td>\n",
       "      <td>0.727232</td>\n",
       "      <td>0.083878</td>\n",
       "      <td>0.151228</td>\n",
       "      <td>0.088965</td>\n",
       "      <td>0.017798</td>\n",
       "      <td>0.250000</td>\n",
       "      <td>0.201497</td>\n",
       "      <td>0.007812</td>\n",
       "      <td>0.562500</td>\n",
       "      <td>0.554688</td>\n",
       "      <td>0.247119</td>\n",
       "    </tr>\n",
       "    <tr>\n",
       "      <th>4</th>\n",
       "      <td>0.135120</td>\n",
       "      <td>0.079146</td>\n",
       "      <td>0.124656</td>\n",
       "      <td>0.078720</td>\n",
       "      <td>0.206045</td>\n",
       "      <td>0.127325</td>\n",
       "      <td>1.101174</td>\n",
       "      <td>4.333713</td>\n",
       "      <td>0.971955</td>\n",
       "      <td>0.783568</td>\n",
       "      <td>0.104261</td>\n",
       "      <td>0.135120</td>\n",
       "      <td>0.106398</td>\n",
       "      <td>0.016931</td>\n",
       "      <td>0.266667</td>\n",
       "      <td>0.712812</td>\n",
       "      <td>0.007812</td>\n",
       "      <td>5.484375</td>\n",
       "      <td>5.476562</td>\n",
       "      <td>0.208274</td>\n",
       "    </tr>\n",
       "  </tbody>\n",
       "</table>\n",
       "</div>"
      ],
      "text/plain": [
       "   meanfreq        sd    median       Q25       Q75       IQR       skew  \\\n",
       "0  0.059781  0.064241  0.032027  0.015071  0.090193  0.075122  12.863462   \n",
       "1  0.066009  0.067310  0.040229  0.019414  0.092666  0.073252  22.423285   \n",
       "2  0.077316  0.083829  0.036718  0.008701  0.131908  0.123207  30.757155   \n",
       "3  0.151228  0.072111  0.158011  0.096582  0.207955  0.111374   1.232831   \n",
       "4  0.135120  0.079146  0.124656  0.078720  0.206045  0.127325   1.101174   \n",
       "\n",
       "          kurt    sp.ent       sfm      mode  centroid   meanfun    minfun  \\\n",
       "0   274.402906  0.893369  0.491918  0.000000  0.059781  0.084279  0.015702   \n",
       "1   634.613855  0.892193  0.513724  0.000000  0.066009  0.107937  0.015826   \n",
       "2  1024.927705  0.846389  0.478905  0.000000  0.077316  0.098706  0.015656   \n",
       "3     4.177296  0.963322  0.727232  0.083878  0.151228  0.088965  0.017798   \n",
       "4     4.333713  0.971955  0.783568  0.104261  0.135120  0.106398  0.016931   \n",
       "\n",
       "     maxfun   meandom    mindom    maxdom   dfrange   modindx  \n",
       "0  0.275862  0.007812  0.007812  0.007812  0.000000  0.000000  \n",
       "1  0.250000  0.009014  0.007812  0.054688  0.046875  0.052632  \n",
       "2  0.271186  0.007990  0.007812  0.015625  0.007812  0.046512  \n",
       "3  0.250000  0.201497  0.007812  0.562500  0.554688  0.247119  \n",
       "4  0.266667  0.712812  0.007812  5.484375  5.476562  0.208274  "
      ]
     },
     "execution_count": 16,
     "metadata": {},
     "output_type": "execute_result"
    }
   ],
   "source": [
    "X = df.copy()\n",
    "X = df.drop('label_male', axis = 1)\n",
    "X.head()"
   ]
  },
  {
   "cell_type": "code",
   "execution_count": 17,
   "id": "cdc578be",
   "metadata": {
    "scrolled": true
   },
   "outputs": [],
   "source": [
    "y = df['label_male']"
   ]
  },
  {
   "cell_type": "code",
   "execution_count": 18,
   "id": "c937766b",
   "metadata": {
    "scrolled": true
   },
   "outputs": [],
   "source": [
    "X_train,X_test,y_train,y_test=train_test_split(X,y,test_size=0.2,random_state=0)"
   ]
  },
  {
   "cell_type": "code",
   "execution_count": 19,
   "id": "c24ccd65",
   "metadata": {
    "scrolled": true
   },
   "outputs": [
    {
     "data": {
      "text/plain": [
       "((2534, 20), (634, 20))"
      ]
     },
     "execution_count": 19,
     "metadata": {},
     "output_type": "execute_result"
    }
   ],
   "source": [
    "X_train.shape, X_test.shape"
   ]
  },
  {
   "cell_type": "markdown",
   "id": "f1defd41",
   "metadata": {},
   "source": [
    "## Scaling the data"
   ]
  },
  {
   "cell_type": "code",
   "execution_count": 20,
   "id": "cd4c4df2",
   "metadata": {
    "scrolled": true
   },
   "outputs": [
    {
     "data": {
      "text/plain": [
       "array([[ 0.89550698, -0.80653508,  0.43721545, ...,  1.03262643,\n",
       "         1.02829426, -0.86322802],\n",
       "       [-0.96290446,  0.12633097, -1.50610896, ..., -0.21961664,\n",
       "        -0.228173  ,  1.9114656 ],\n",
       "       [ 0.1103896 ,  0.13724384, -0.74976318, ...,  0.39641109,\n",
       "         0.39773646,  0.11329748],\n",
       "       ...,\n",
       "       [-1.42619692,  0.91655327, -1.19223684, ..., -0.23327896,\n",
       "        -0.22635408,  0.12414633],\n",
       "       [ 1.51000038, -1.19269472,  1.29541324, ...,  0.98858075,\n",
       "         0.98464026, -0.15313238],\n",
       "       [ 0.06537992, -1.02133506,  0.02868641, ...,  0.89559543,\n",
       "         0.89248181, -0.04284794]])"
      ]
     },
     "execution_count": 20,
     "metadata": {},
     "output_type": "execute_result"
    }
   ],
   "source": [
    "scaler=RobustScaler()\n",
    "scaler.fit_transform(X_train)"
   ]
  },
  {
   "cell_type": "code",
   "execution_count": 21,
   "id": "45225633",
   "metadata": {
    "scrolled": true
   },
   "outputs": [
    {
     "data": {
      "text/plain": [
       "array([[ 0.31322035, -0.86842651,  0.1446907 , ...,  0.50897227,\n",
       "         0.48504446, -0.4169132 ],\n",
       "       [-0.14087608,  0.04761466, -0.20911393, ..., -0.09298532,\n",
       "        -0.087308  , -0.23900357],\n",
       "       [ 1.06978314, -1.27637773,  0.76613195, ..., -0.18107667,\n",
       "        -0.21341956, -0.30083228],\n",
       "       ...,\n",
       "       [-0.77085314,  0.82310325, -1.04907261, ..., -0.00652529,\n",
       "         0.00161681, -0.27732613],\n",
       "       [ 0.65151246, -0.79302377,  0.39216222, ...,  0.77814029,\n",
       "         0.77607114, -0.54149473],\n",
       "       [-0.6680153 , -0.22490774, -0.52779303, ..., -0.99449429,\n",
       "        -1.01030719,  0.2023097 ]])"
      ]
     },
     "execution_count": 21,
     "metadata": {},
     "output_type": "execute_result"
    }
   ],
   "source": [
    "scaler.transform(X_test)"
   ]
  },
  {
   "cell_type": "markdown",
   "id": "6591b157",
   "metadata": {},
   "source": [
    "We have made use of RobustScaler scaling as it is robust to outliers."
   ]
  },
  {
   "cell_type": "markdown",
   "id": "63ea4f66",
   "metadata": {},
   "source": [
    "## Feature Selection"
   ]
  },
  {
   "cell_type": "code",
   "execution_count": 22,
   "id": "de335b1a",
   "metadata": {
    "scrolled": true
   },
   "outputs": [
    {
     "data": {
      "text/plain": [
       "SelectFromModel(estimator=Lasso(alpha=0.0005, random_state=0))"
      ]
     },
     "execution_count": 22,
     "metadata": {},
     "output_type": "execute_result"
    }
   ],
   "source": [
    "feature_sel_model = SelectFromModel(Lasso(alpha=0.0005, random_state=0))\n",
    "feature_sel_model.fit(X_train, y_train)"
   ]
  },
  {
   "cell_type": "code",
   "execution_count": 23,
   "id": "18c0166b",
   "metadata": {
    "scrolled": true
   },
   "outputs": [
    {
     "name": "stdout",
     "output_type": "stream",
     "text": [
      "total features: 20\n",
      "selected features: 10\n",
      "features with coefficients shrank to zero: 10\n"
     ]
    }
   ],
   "source": [
    "selected_feat = X_train.columns[(feature_sel_model.get_support())]\n",
    "\n",
    "print('total features: {}'.format((X_train.shape[1])))\n",
    "print('selected features: {}'.format(len(selected_feat)))\n",
    "print('features with coefficients shrank to zero: {}'.format(X_train.shape[1]-len(selected_feat)))"
   ]
  },
  {
   "cell_type": "markdown",
   "id": "8bad2ce1",
   "metadata": {},
   "source": [
    "It could be seen that Lasso has brought down our features to 10"
   ]
  },
  {
   "cell_type": "markdown",
   "id": "3fffa51b",
   "metadata": {},
   "source": [
    "## Modifying the train and test data according to selected features"
   ]
  },
  {
   "cell_type": "code",
   "execution_count": 24,
   "id": "be1771d5",
   "metadata": {
    "scrolled": true
   },
   "outputs": [],
   "source": [
    "X_train = X_train[selected_feat]"
   ]
  },
  {
   "cell_type": "code",
   "execution_count": 25,
   "id": "41fb1edc",
   "metadata": {
    "scrolled": true
   },
   "outputs": [
    {
     "data": {
      "text/html": [
       "<div>\n",
       "<style scoped>\n",
       "    .dataframe tbody tr th:only-of-type {\n",
       "        vertical-align: middle;\n",
       "    }\n",
       "\n",
       "    .dataframe tbody tr th {\n",
       "        vertical-align: top;\n",
       "    }\n",
       "\n",
       "    .dataframe thead th {\n",
       "        text-align: right;\n",
       "    }\n",
       "</style>\n",
       "<table border=\"1\" class=\"dataframe\">\n",
       "  <thead>\n",
       "    <tr style=\"text-align: right;\">\n",
       "      <th></th>\n",
       "      <th>Q75</th>\n",
       "      <th>IQR</th>\n",
       "      <th>skew</th>\n",
       "      <th>kurt</th>\n",
       "      <th>sfm</th>\n",
       "      <th>mode</th>\n",
       "      <th>meanfun</th>\n",
       "      <th>minfun</th>\n",
       "      <th>meandom</th>\n",
       "      <th>maxdom</th>\n",
       "    </tr>\n",
       "  </thead>\n",
       "  <tbody>\n",
       "    <tr>\n",
       "      <th>2311</th>\n",
       "      <td>0.246154</td>\n",
       "      <td>0.052308</td>\n",
       "      <td>2.137455</td>\n",
       "      <td>7.951889</td>\n",
       "      <td>0.211434</td>\n",
       "      <td>0.193846</td>\n",
       "      <td>0.174002</td>\n",
       "      <td>0.047856</td>\n",
       "      <td>1.182398</td>\n",
       "      <td>9.937500</td>\n",
       "    </tr>\n",
       "    <tr>\n",
       "      <th>349</th>\n",
       "      <td>0.203394</td>\n",
       "      <td>0.103643</td>\n",
       "      <td>2.689374</td>\n",
       "      <td>12.289471</td>\n",
       "      <td>0.510190</td>\n",
       "      <td>0.095655</td>\n",
       "      <td>0.101953</td>\n",
       "      <td>0.051546</td>\n",
       "      <td>0.809617</td>\n",
       "      <td>3.940430</td>\n",
       "    </tr>\n",
       "    <tr>\n",
       "      <th>989</th>\n",
       "      <td>0.254003</td>\n",
       "      <td>0.121035</td>\n",
       "      <td>1.870762</td>\n",
       "      <td>6.261814</td>\n",
       "      <td>0.286869</td>\n",
       "      <td>0.141065</td>\n",
       "      <td>0.131446</td>\n",
       "      <td>0.047291</td>\n",
       "      <td>1.801758</td>\n",
       "      <td>6.890625</td>\n",
       "    </tr>\n",
       "    <tr>\n",
       "      <th>2100</th>\n",
       "      <td>0.213233</td>\n",
       "      <td>0.043346</td>\n",
       "      <td>2.162641</td>\n",
       "      <td>7.631533</td>\n",
       "      <td>0.237891</td>\n",
       "      <td>0.168839</td>\n",
       "      <td>0.170972</td>\n",
       "      <td>0.015779</td>\n",
       "      <td>0.434211</td>\n",
       "      <td>4.828125</td>\n",
       "    </tr>\n",
       "    <tr>\n",
       "      <th>1118</th>\n",
       "      <td>0.239795</td>\n",
       "      <td>0.103385</td>\n",
       "      <td>1.615562</td>\n",
       "      <td>5.302011</td>\n",
       "      <td>0.342237</td>\n",
       "      <td>0.126359</td>\n",
       "      <td>0.134925</td>\n",
       "      <td>0.047714</td>\n",
       "      <td>0.782012</td>\n",
       "      <td>3.281250</td>\n",
       "    </tr>\n",
       "  </tbody>\n",
       "</table>\n",
       "</div>"
      ],
      "text/plain": [
       "           Q75       IQR      skew       kurt       sfm      mode   meanfun  \\\n",
       "2311  0.246154  0.052308  2.137455   7.951889  0.211434  0.193846  0.174002   \n",
       "349   0.203394  0.103643  2.689374  12.289471  0.510190  0.095655  0.101953   \n",
       "989   0.254003  0.121035  1.870762   6.261814  0.286869  0.141065  0.131446   \n",
       "2100  0.213233  0.043346  2.162641   7.631533  0.237891  0.168839  0.170972   \n",
       "1118  0.239795  0.103385  1.615562   5.302011  0.342237  0.126359  0.134925   \n",
       "\n",
       "        minfun   meandom    maxdom  \n",
       "2311  0.047856  1.182398  9.937500  \n",
       "349   0.051546  0.809617  3.940430  \n",
       "989   0.047291  1.801758  6.890625  \n",
       "2100  0.015779  0.434211  4.828125  \n",
       "1118  0.047714  0.782012  3.281250  "
      ]
     },
     "execution_count": 25,
     "metadata": {},
     "output_type": "execute_result"
    }
   ],
   "source": [
    "X_train.head()"
   ]
  },
  {
   "cell_type": "code",
   "execution_count": 26,
   "id": "0778acf3",
   "metadata": {
    "scrolled": true
   },
   "outputs": [],
   "source": [
    "X_test = X_test[selected_feat]"
   ]
  },
  {
   "cell_type": "code",
   "execution_count": 27,
   "id": "c84df5ac",
   "metadata": {
    "scrolled": true
   },
   "outputs": [
    {
     "data": {
      "text/html": [
       "<div>\n",
       "<style scoped>\n",
       "    .dataframe tbody tr th:only-of-type {\n",
       "        vertical-align: middle;\n",
       "    }\n",
       "\n",
       "    .dataframe tbody tr th {\n",
       "        vertical-align: top;\n",
       "    }\n",
       "\n",
       "    .dataframe thead th {\n",
       "        text-align: right;\n",
       "    }\n",
       "</style>\n",
       "<table border=\"1\" class=\"dataframe\">\n",
       "  <thead>\n",
       "    <tr style=\"text-align: right;\">\n",
       "      <th></th>\n",
       "      <th>Q75</th>\n",
       "      <th>IQR</th>\n",
       "      <th>skew</th>\n",
       "      <th>kurt</th>\n",
       "      <th>sfm</th>\n",
       "      <th>mode</th>\n",
       "      <th>meanfun</th>\n",
       "      <th>minfun</th>\n",
       "      <th>meandom</th>\n",
       "      <th>maxdom</th>\n",
       "    </tr>\n",
       "  </thead>\n",
       "  <tbody>\n",
       "    <tr>\n",
       "      <th>2534</th>\n",
       "      <td>0.218835</td>\n",
       "      <td>0.045874</td>\n",
       "      <td>1.730322</td>\n",
       "      <td>5.230177</td>\n",
       "      <td>0.275524</td>\n",
       "      <td>0.173981</td>\n",
       "      <td>0.156238</td>\n",
       "      <td>0.047105</td>\n",
       "      <td>1.265625</td>\n",
       "      <td>7.429688</td>\n",
       "    </tr>\n",
       "    <tr>\n",
       "      <th>1436</th>\n",
       "      <td>0.225089</td>\n",
       "      <td>0.091216</td>\n",
       "      <td>1.513972</td>\n",
       "      <td>5.995542</td>\n",
       "      <td>0.447723</td>\n",
       "      <td>0.177439</td>\n",
       "      <td>0.121193</td>\n",
       "      <td>0.047666</td>\n",
       "      <td>0.690589</td>\n",
       "      <td>4.546875</td>\n",
       "    </tr>\n",
       "    <tr>\n",
       "      <th>2568</th>\n",
       "      <td>0.236695</td>\n",
       "      <td>0.026102</td>\n",
       "      <td>3.449305</td>\n",
       "      <td>18.060482</td>\n",
       "      <td>0.121375</td>\n",
       "      <td>0.219492</td>\n",
       "      <td>0.203196</td>\n",
       "      <td>0.050104</td>\n",
       "      <td>0.668750</td>\n",
       "      <td>4.125000</td>\n",
       "    </tr>\n",
       "    <tr>\n",
       "      <th>3156</th>\n",
       "      <td>0.227872</td>\n",
       "      <td>0.049707</td>\n",
       "      <td>1.585353</td>\n",
       "      <td>4.945634</td>\n",
       "      <td>0.227903</td>\n",
       "      <td>0.176117</td>\n",
       "      <td>0.191704</td>\n",
       "      <td>0.032720</td>\n",
       "      <td>0.593750</td>\n",
       "      <td>5.921875</td>\n",
       "    </tr>\n",
       "    <tr>\n",
       "      <th>1473</th>\n",
       "      <td>0.254419</td>\n",
       "      <td>0.080920</td>\n",
       "      <td>1.398761</td>\n",
       "      <td>4.859347</td>\n",
       "      <td>0.221827</td>\n",
       "      <td>0.264686</td>\n",
       "      <td>0.110204</td>\n",
       "      <td>0.017003</td>\n",
       "      <td>0.710677</td>\n",
       "      <td>5.476562</td>\n",
       "    </tr>\n",
       "  </tbody>\n",
       "</table>\n",
       "</div>"
      ],
      "text/plain": [
       "           Q75       IQR      skew       kurt       sfm      mode   meanfun  \\\n",
       "2534  0.218835  0.045874  1.730322   5.230177  0.275524  0.173981  0.156238   \n",
       "1436  0.225089  0.091216  1.513972   5.995542  0.447723  0.177439  0.121193   \n",
       "2568  0.236695  0.026102  3.449305  18.060482  0.121375  0.219492  0.203196   \n",
       "3156  0.227872  0.049707  1.585353   4.945634  0.227903  0.176117  0.191704   \n",
       "1473  0.254419  0.080920  1.398761   4.859347  0.221827  0.264686  0.110204   \n",
       "\n",
       "        minfun   meandom    maxdom  \n",
       "2534  0.047105  1.265625  7.429688  \n",
       "1436  0.047666  0.690589  4.546875  \n",
       "2568  0.050104  0.668750  4.125000  \n",
       "3156  0.032720  0.593750  5.921875  \n",
       "1473  0.017003  0.710677  5.476562  "
      ]
     },
     "execution_count": 27,
     "metadata": {},
     "output_type": "execute_result"
    }
   ],
   "source": [
    "X_test.head()"
   ]
  },
  {
   "cell_type": "markdown",
   "id": "e426cc0f",
   "metadata": {},
   "source": [
    "## Building and fitting the model"
   ]
  },
  {
   "cell_type": "code",
   "execution_count": 28,
   "id": "c931cb99",
   "metadata": {
    "scrolled": true
   },
   "outputs": [
    {
     "name": "stdout",
     "output_type": "stream",
     "text": [
      "Accuracy of SVM Classifier : 67.19\n",
      "F1 Score 0.6659417883620036\n"
     ]
    }
   ],
   "source": [
    "svc_clf = SVC() \n",
    "svc_clf.fit(X_train,y_train)\n",
    "y_pred = svc_clf.predict(X_test)\n",
    "accuracy = accuracy_score(y_test, y_pred)\n",
    "print(\"Accuracy of SVM Classifier : %.2f\" % (accuracy*100) )\n",
    "print(\"F1 Score\", f1_score(y_test, y_pred, average='weighted'))\n",
    "# print(classification_report(y_test, y_pred))"
   ]
  },
  {
   "cell_type": "markdown",
   "id": "6a064fb2",
   "metadata": {},
   "source": [
    "It can be seen that the performance considering the default values of SVM is quite low. So let's tune some parameters"
   ]
  },
  {
   "cell_type": "markdown",
   "id": "1cc733a3",
   "metadata": {},
   "source": [
    "## Parameter tuning with GridSearch"
   ]
  },
  {
   "cell_type": "code",
   "execution_count": 29,
   "id": "8e896f10",
   "metadata": {
    "scrolled": true
   },
   "outputs": [
    {
     "name": "stdout",
     "output_type": "stream",
     "text": [
      "Fitting 8 folds for each of 75 candidates, totalling 600 fits\n",
      "[CV 1/8] END ........C=0.1, gamma=1, kernel=rbf;, score=0.707 total time=   0.2s\n",
      "[CV 2/8] END ........C=0.1, gamma=1, kernel=rbf;, score=0.662 total time=   0.3s\n",
      "[CV 3/8] END ........C=0.1, gamma=1, kernel=rbf;, score=0.700 total time=   0.2s\n",
      "[CV 4/8] END ........C=0.1, gamma=1, kernel=rbf;, score=0.625 total time=   0.2s\n",
      "[CV 5/8] END ........C=0.1, gamma=1, kernel=rbf;, score=0.650 total time=   0.2s\n",
      "[CV 6/8] END ........C=0.1, gamma=1, kernel=rbf;, score=0.637 total time=   0.2s\n",
      "[CV 7/8] END ........C=0.1, gamma=1, kernel=rbf;, score=0.655 total time=   0.2s\n",
      "[CV 8/8] END ........C=0.1, gamma=1, kernel=rbf;, score=0.677 total time=   0.2s\n",
      "[CV 1/8] END .....C=0.1, gamma=1, kernel=linear;, score=0.804 total time=   0.3s\n",
      "[CV 2/8] END .....C=0.1, gamma=1, kernel=linear;, score=0.814 total time=   0.3s\n",
      "[CV 3/8] END .....C=0.1, gamma=1, kernel=linear;, score=0.798 total time=   0.2s\n",
      "[CV 4/8] END .....C=0.1, gamma=1, kernel=linear;, score=0.798 total time=   0.3s\n",
      "[CV 5/8] END .....C=0.1, gamma=1, kernel=linear;, score=0.754 total time=   0.4s\n",
      "[CV 6/8] END .....C=0.1, gamma=1, kernel=linear;, score=0.811 total time=   0.2s\n",
      "[CV 7/8] END .....C=0.1, gamma=1, kernel=linear;, score=0.788 total time=   0.3s\n",
      "[CV 8/8] END .....C=0.1, gamma=1, kernel=linear;, score=0.766 total time=   0.3s\n",
      "[CV 1/8] END ....C=0.1, gamma=1, kernel=sigmoid;, score=0.508 total time=   0.0s\n",
      "[CV 2/8] END ....C=0.1, gamma=1, kernel=sigmoid;, score=0.508 total time=   0.1s\n",
      "[CV 3/8] END ....C=0.1, gamma=1, kernel=sigmoid;, score=0.508 total time=   0.1s\n",
      "[CV 4/8] END ....C=0.1, gamma=1, kernel=sigmoid;, score=0.505 total time=   0.0s\n",
      "[CV 5/8] END ....C=0.1, gamma=1, kernel=sigmoid;, score=0.505 total time=   0.0s\n",
      "[CV 6/8] END ....C=0.1, gamma=1, kernel=sigmoid;, score=0.505 total time=   0.0s\n",
      "[CV 7/8] END ....C=0.1, gamma=1, kernel=sigmoid;, score=0.506 total time=   0.0s\n",
      "[CV 8/8] END ....C=0.1, gamma=1, kernel=sigmoid;, score=0.506 total time=   0.0s\n",
      "[CV 1/8] END ......C=0.1, gamma=0.1, kernel=rbf;, score=0.691 total time=   0.2s\n",
      "[CV 2/8] END ......C=0.1, gamma=0.1, kernel=rbf;, score=0.666 total time=   0.1s\n",
      "[CV 3/8] END ......C=0.1, gamma=0.1, kernel=rbf;, score=0.685 total time=   0.1s\n",
      "[CV 4/8] END ......C=0.1, gamma=0.1, kernel=rbf;, score=0.640 total time=   0.1s\n",
      "[CV 5/8] END ......C=0.1, gamma=0.1, kernel=rbf;, score=0.640 total time=   0.1s\n",
      "[CV 6/8] END ......C=0.1, gamma=0.1, kernel=rbf;, score=0.640 total time=   0.1s\n",
      "[CV 7/8] END ......C=0.1, gamma=0.1, kernel=rbf;, score=0.661 total time=   0.1s\n",
      "[CV 8/8] END ......C=0.1, gamma=0.1, kernel=rbf;, score=0.668 total time=   0.1s\n",
      "[CV 1/8] END ...C=0.1, gamma=0.1, kernel=linear;, score=0.804 total time=   0.3s\n",
      "[CV 2/8] END ...C=0.1, gamma=0.1, kernel=linear;, score=0.814 total time=   0.2s\n",
      "[CV 3/8] END ...C=0.1, gamma=0.1, kernel=linear;, score=0.798 total time=   0.2s\n",
      "[CV 4/8] END ...C=0.1, gamma=0.1, kernel=linear;, score=0.798 total time=   0.3s\n",
      "[CV 5/8] END ...C=0.1, gamma=0.1, kernel=linear;, score=0.754 total time=   0.4s\n",
      "[CV 6/8] END ...C=0.1, gamma=0.1, kernel=linear;, score=0.811 total time=   0.2s\n",
      "[CV 7/8] END ...C=0.1, gamma=0.1, kernel=linear;, score=0.788 total time=   0.3s\n",
      "[CV 8/8] END ...C=0.1, gamma=0.1, kernel=linear;, score=0.766 total time=   0.4s\n",
      "[CV 1/8] END ..C=0.1, gamma=0.1, kernel=sigmoid;, score=0.508 total time=   0.1s\n",
      "[CV 2/8] END ..C=0.1, gamma=0.1, kernel=sigmoid;, score=0.508 total time=   0.1s\n",
      "[CV 3/8] END ..C=0.1, gamma=0.1, kernel=sigmoid;, score=0.508 total time=   0.1s\n",
      "[CV 4/8] END ..C=0.1, gamma=0.1, kernel=sigmoid;, score=0.505 total time=   0.1s\n",
      "[CV 5/8] END ..C=0.1, gamma=0.1, kernel=sigmoid;, score=0.505 total time=   0.1s\n",
      "[CV 6/8] END ..C=0.1, gamma=0.1, kernel=sigmoid;, score=0.505 total time=   0.1s\n",
      "[CV 7/8] END ..C=0.1, gamma=0.1, kernel=sigmoid;, score=0.506 total time=   0.1s\n",
      "[CV 8/8] END ..C=0.1, gamma=0.1, kernel=sigmoid;, score=0.506 total time=   0.1s\n",
      "[CV 1/8] END .....C=0.1, gamma=0.01, kernel=rbf;, score=0.681 total time=   0.1s\n",
      "[CV 2/8] END .....C=0.1, gamma=0.01, kernel=rbf;, score=0.685 total time=   0.1s\n",
      "[CV 3/8] END .....C=0.1, gamma=0.01, kernel=rbf;, score=0.694 total time=   0.1s\n",
      "[CV 4/8] END .....C=0.1, gamma=0.01, kernel=rbf;, score=0.681 total time=   0.1s\n",
      "[CV 5/8] END .....C=0.1, gamma=0.01, kernel=rbf;, score=0.672 total time=   0.1s\n",
      "[CV 6/8] END .....C=0.1, gamma=0.01, kernel=rbf;, score=0.653 total time=   0.1s\n",
      "[CV 7/8] END .....C=0.1, gamma=0.01, kernel=rbf;, score=0.658 total time=   0.1s\n",
      "[CV 8/8] END .....C=0.1, gamma=0.01, kernel=rbf;, score=0.655 total time=   0.1s\n",
      "[CV 1/8] END ..C=0.1, gamma=0.01, kernel=linear;, score=0.804 total time=   0.3s\n",
      "[CV 2/8] END ..C=0.1, gamma=0.01, kernel=linear;, score=0.814 total time=   0.3s\n",
      "[CV 3/8] END ..C=0.1, gamma=0.01, kernel=linear;, score=0.798 total time=   0.3s\n",
      "[CV 4/8] END ..C=0.1, gamma=0.01, kernel=linear;, score=0.798 total time=   0.3s\n",
      "[CV 5/8] END ..C=0.1, gamma=0.01, kernel=linear;, score=0.754 total time=   0.4s\n",
      "[CV 6/8] END ..C=0.1, gamma=0.01, kernel=linear;, score=0.811 total time=   0.2s\n",
      "[CV 7/8] END ..C=0.1, gamma=0.01, kernel=linear;, score=0.788 total time=   0.3s\n",
      "[CV 8/8] END ..C=0.1, gamma=0.01, kernel=linear;, score=0.766 total time=   0.2s\n",
      "[CV 1/8] END .C=0.1, gamma=0.01, kernel=sigmoid;, score=0.341 total time=   0.1s\n",
      "[CV 2/8] END .C=0.1, gamma=0.01, kernel=sigmoid;, score=0.341 total time=   0.1s\n",
      "[CV 3/8] END .C=0.1, gamma=0.01, kernel=sigmoid;, score=0.338 total time=   0.1s\n",
      "[CV 4/8] END .C=0.1, gamma=0.01, kernel=sigmoid;, score=0.379 total time=   0.1s\n",
      "[CV 5/8] END .C=0.1, gamma=0.01, kernel=sigmoid;, score=0.366 total time=   0.1s\n",
      "[CV 6/8] END .C=0.1, gamma=0.01, kernel=sigmoid;, score=0.372 total time=   0.1s\n",
      "[CV 7/8] END .C=0.1, gamma=0.01, kernel=sigmoid;, score=0.364 total time=   0.1s\n",
      "[CV 8/8] END .C=0.1, gamma=0.01, kernel=sigmoid;, score=0.642 total time=   0.0s\n",
      "[CV 1/8] END ....C=0.1, gamma=0.001, kernel=rbf;, score=0.681 total time=   0.1s\n",
      "[CV 2/8] END ....C=0.1, gamma=0.001, kernel=rbf;, score=0.675 total time=   0.1s\n",
      "[CV 3/8] END ....C=0.1, gamma=0.001, kernel=rbf;, score=0.675 total time=   0.1s\n",
      "[CV 4/8] END ....C=0.1, gamma=0.001, kernel=rbf;, score=0.640 total time=   0.1s\n",
      "[CV 5/8] END ....C=0.1, gamma=0.001, kernel=rbf;, score=0.669 total time=   0.1s\n",
      "[CV 6/8] END ....C=0.1, gamma=0.001, kernel=rbf;, score=0.656 total time=   0.1s\n",
      "[CV 7/8] END ....C=0.1, gamma=0.001, kernel=rbf;, score=0.661 total time=   0.1s\n",
      "[CV 8/8] END ....C=0.1, gamma=0.001, kernel=rbf;, score=0.627 total time=   0.1s\n",
      "[CV 1/8] END .C=0.1, gamma=0.001, kernel=linear;, score=0.804 total time=   0.3s\n",
      "[CV 2/8] END .C=0.1, gamma=0.001, kernel=linear;, score=0.814 total time=   0.3s\n",
      "[CV 3/8] END .C=0.1, gamma=0.001, kernel=linear;, score=0.798 total time=   0.2s\n",
      "[CV 4/8] END .C=0.1, gamma=0.001, kernel=linear;, score=0.798 total time=   0.3s\n",
      "[CV 5/8] END .C=0.1, gamma=0.001, kernel=linear;, score=0.754 total time=   0.4s\n",
      "[CV 6/8] END .C=0.1, gamma=0.001, kernel=linear;, score=0.811 total time=   0.2s\n",
      "[CV 7/8] END .C=0.1, gamma=0.001, kernel=linear;, score=0.788 total time=   0.3s\n",
      "[CV 8/8] END .C=0.1, gamma=0.001, kernel=linear;, score=0.766 total time=   0.2s\n",
      "[CV 1/8] END C=0.1, gamma=0.001, kernel=sigmoid;, score=0.596 total time=   0.1s\n",
      "[CV 2/8] END C=0.1, gamma=0.001, kernel=sigmoid;, score=0.558 total time=   0.1s\n",
      "[CV 3/8] END C=0.1, gamma=0.001, kernel=sigmoid;, score=0.549 total time=   0.1s\n",
      "[CV 4/8] END C=0.1, gamma=0.001, kernel=sigmoid;, score=0.527 total time=   0.1s\n",
      "[CV 5/8] END C=0.1, gamma=0.001, kernel=sigmoid;, score=0.555 total time=   0.1s\n",
      "[CV 6/8] END C=0.1, gamma=0.001, kernel=sigmoid;, score=0.562 total time=   0.1s\n",
      "[CV 7/8] END C=0.1, gamma=0.001, kernel=sigmoid;, score=0.589 total time=   0.1s\n",
      "[CV 8/8] END C=0.1, gamma=0.001, kernel=sigmoid;, score=0.566 total time=   0.1s\n",
      "[CV 1/8] END ...C=0.1, gamma=0.0001, kernel=rbf;, score=0.511 total time=   0.2s\n",
      "[CV 2/8] END ...C=0.1, gamma=0.0001, kernel=rbf;, score=0.543 total time=   0.1s\n",
      "[CV 3/8] END ...C=0.1, gamma=0.0001, kernel=rbf;, score=0.530 total time=   0.2s\n",
      "[CV 4/8] END ...C=0.1, gamma=0.0001, kernel=rbf;, score=0.530 total time=   0.2s\n",
      "[CV 5/8] END ...C=0.1, gamma=0.0001, kernel=rbf;, score=0.536 total time=   0.2s\n"
     ]
    },
    {
     "name": "stdout",
     "output_type": "stream",
     "text": [
      "[CV 6/8] END ...C=0.1, gamma=0.0001, kernel=rbf;, score=0.533 total time=   0.3s\n",
      "[CV 7/8] END ...C=0.1, gamma=0.0001, kernel=rbf;, score=0.535 total time=   0.2s\n",
      "[CV 8/8] END ...C=0.1, gamma=0.0001, kernel=rbf;, score=0.516 total time=   0.1s\n",
      "[CV 1/8] END C=0.1, gamma=0.0001, kernel=linear;, score=0.804 total time=   0.3s\n",
      "[CV 2/8] END C=0.1, gamma=0.0001, kernel=linear;, score=0.814 total time=   0.3s\n",
      "[CV 3/8] END C=0.1, gamma=0.0001, kernel=linear;, score=0.798 total time=   0.3s\n",
      "[CV 4/8] END C=0.1, gamma=0.0001, kernel=linear;, score=0.798 total time=   0.3s\n",
      "[CV 5/8] END C=0.1, gamma=0.0001, kernel=linear;, score=0.754 total time=   0.5s\n",
      "[CV 6/8] END C=0.1, gamma=0.0001, kernel=linear;, score=0.811 total time=   0.3s\n",
      "[CV 7/8] END C=0.1, gamma=0.0001, kernel=linear;, score=0.788 total time=   0.3s\n",
      "[CV 8/8] END C=0.1, gamma=0.0001, kernel=linear;, score=0.766 total time=   0.2s\n",
      "[CV 1/8] END C=0.1, gamma=0.0001, kernel=sigmoid;, score=0.404 total time=   0.1s\n",
      "[CV 2/8] END C=0.1, gamma=0.0001, kernel=sigmoid;, score=0.388 total time=   0.1s\n",
      "[CV 3/8] END C=0.1, gamma=0.0001, kernel=sigmoid;, score=0.338 total time=   0.1s\n",
      "[CV 4/8] END C=0.1, gamma=0.0001, kernel=sigmoid;, score=0.407 total time=   0.1s\n",
      "[CV 5/8] END C=0.1, gamma=0.0001, kernel=sigmoid;, score=0.401 total time=   0.1s\n",
      "[CV 6/8] END C=0.1, gamma=0.0001, kernel=sigmoid;, score=0.432 total time=   0.1s\n",
      "[CV 7/8] END C=0.1, gamma=0.0001, kernel=sigmoid;, score=0.383 total time=   0.1s\n",
      "[CV 8/8] END C=0.1, gamma=0.0001, kernel=sigmoid;, score=0.386 total time=   0.1s\n",
      "[CV 1/8] END ..........C=1, gamma=1, kernel=rbf;, score=0.754 total time=   0.1s\n",
      "[CV 2/8] END ..........C=1, gamma=1, kernel=rbf;, score=0.726 total time=   0.1s\n",
      "[CV 3/8] END ..........C=1, gamma=1, kernel=rbf;, score=0.729 total time=   0.1s\n",
      "[CV 4/8] END ..........C=1, gamma=1, kernel=rbf;, score=0.732 total time=   0.1s\n",
      "[CV 5/8] END ..........C=1, gamma=1, kernel=rbf;, score=0.707 total time=   0.1s\n",
      "[CV 6/8] END ..........C=1, gamma=1, kernel=rbf;, score=0.681 total time=   0.1s\n",
      "[CV 7/8] END ..........C=1, gamma=1, kernel=rbf;, score=0.728 total time=   0.1s\n",
      "[CV 8/8] END ..........C=1, gamma=1, kernel=rbf;, score=0.715 total time=   0.1s\n",
      "[CV 1/8] END .......C=1, gamma=1, kernel=linear;, score=0.927 total time=   1.9s\n",
      "[CV 2/8] END .......C=1, gamma=1, kernel=linear;, score=0.921 total time=   3.2s\n",
      "[CV 3/8] END .......C=1, gamma=1, kernel=linear;, score=0.934 total time=   1.5s\n",
      "[CV 4/8] END .......C=1, gamma=1, kernel=linear;, score=0.931 total time=   3.1s\n",
      "[CV 5/8] END .......C=1, gamma=1, kernel=linear;, score=0.915 total time=   4.1s\n",
      "[CV 6/8] END .......C=1, gamma=1, kernel=linear;, score=0.934 total time=   2.5s\n",
      "[CV 7/8] END .......C=1, gamma=1, kernel=linear;, score=0.924 total time=   4.9s\n",
      "[CV 8/8] END .......C=1, gamma=1, kernel=linear;, score=0.927 total time=   3.1s\n",
      "[CV 1/8] END ......C=1, gamma=1, kernel=sigmoid;, score=0.508 total time=   0.0s\n",
      "[CV 2/8] END ......C=1, gamma=1, kernel=sigmoid;, score=0.508 total time=   0.0s\n",
      "[CV 3/8] END ......C=1, gamma=1, kernel=sigmoid;, score=0.508 total time=   0.0s\n",
      "[CV 4/8] END ......C=1, gamma=1, kernel=sigmoid;, score=0.505 total time=   0.0s\n",
      "[CV 5/8] END ......C=1, gamma=1, kernel=sigmoid;, score=0.505 total time=   0.0s\n",
      "[CV 6/8] END ......C=1, gamma=1, kernel=sigmoid;, score=0.505 total time=   0.0s\n",
      "[CV 7/8] END ......C=1, gamma=1, kernel=sigmoid;, score=0.506 total time=   0.1s\n",
      "[CV 8/8] END ......C=1, gamma=1, kernel=sigmoid;, score=0.506 total time=   0.0s\n",
      "[CV 1/8] END ........C=1, gamma=0.1, kernel=rbf;, score=0.741 total time=   0.1s\n",
      "[CV 2/8] END ........C=1, gamma=0.1, kernel=rbf;, score=0.751 total time=   0.1s\n",
      "[CV 3/8] END ........C=1, gamma=0.1, kernel=rbf;, score=0.741 total time=   0.1s\n",
      "[CV 4/8] END ........C=1, gamma=0.1, kernel=rbf;, score=0.732 total time=   0.1s\n",
      "[CV 5/8] END ........C=1, gamma=0.1, kernel=rbf;, score=0.729 total time=   0.1s\n",
      "[CV 6/8] END ........C=1, gamma=0.1, kernel=rbf;, score=0.707 total time=   0.1s\n",
      "[CV 7/8] END ........C=1, gamma=0.1, kernel=rbf;, score=0.725 total time=   0.1s\n",
      "[CV 8/8] END ........C=1, gamma=0.1, kernel=rbf;, score=0.712 total time=   0.1s\n",
      "[CV 1/8] END .....C=1, gamma=0.1, kernel=linear;, score=0.927 total time=   2.3s\n",
      "[CV 2/8] END .....C=1, gamma=0.1, kernel=linear;, score=0.921 total time=   3.4s\n",
      "[CV 3/8] END .....C=1, gamma=0.1, kernel=linear;, score=0.934 total time=   1.7s\n",
      "[CV 4/8] END .....C=1, gamma=0.1, kernel=linear;, score=0.931 total time=   3.0s\n",
      "[CV 5/8] END .....C=1, gamma=0.1, kernel=linear;, score=0.915 total time=   4.1s\n",
      "[CV 6/8] END .....C=1, gamma=0.1, kernel=linear;, score=0.934 total time=   2.5s\n",
      "[CV 7/8] END .....C=1, gamma=0.1, kernel=linear;, score=0.924 total time=   5.2s\n",
      "[CV 8/8] END .....C=1, gamma=0.1, kernel=linear;, score=0.927 total time=   3.0s\n",
      "[CV 1/8] END ....C=1, gamma=0.1, kernel=sigmoid;, score=0.476 total time=   0.1s\n",
      "[CV 2/8] END ....C=1, gamma=0.1, kernel=sigmoid;, score=0.457 total time=   0.1s\n",
      "[CV 3/8] END ....C=1, gamma=0.1, kernel=sigmoid;, score=0.451 total time=   0.1s\n",
      "[CV 4/8] END ....C=1, gamma=0.1, kernel=sigmoid;, score=0.454 total time=   0.1s\n",
      "[CV 5/8] END ....C=1, gamma=0.1, kernel=sigmoid;, score=0.464 total time=   0.2s\n",
      "[CV 6/8] END ....C=1, gamma=0.1, kernel=sigmoid;, score=0.448 total time=   0.1s\n",
      "[CV 7/8] END ....C=1, gamma=0.1, kernel=sigmoid;, score=0.456 total time=   0.1s\n",
      "[CV 8/8] END ....C=1, gamma=0.1, kernel=sigmoid;, score=0.475 total time=   0.1s\n",
      "[CV 1/8] END .......C=1, gamma=0.01, kernel=rbf;, score=0.719 total time=   0.1s\n",
      "[CV 2/8] END .......C=1, gamma=0.01, kernel=rbf;, score=0.744 total time=   0.1s\n",
      "[CV 3/8] END .......C=1, gamma=0.01, kernel=rbf;, score=0.703 total time=   0.2s\n",
      "[CV 4/8] END .......C=1, gamma=0.01, kernel=rbf;, score=0.729 total time=   0.1s\n",
      "[CV 5/8] END .......C=1, gamma=0.01, kernel=rbf;, score=0.694 total time=   0.1s\n",
      "[CV 6/8] END .......C=1, gamma=0.01, kernel=rbf;, score=0.672 total time=   0.1s\n",
      "[CV 7/8] END .......C=1, gamma=0.01, kernel=rbf;, score=0.680 total time=   0.1s\n",
      "[CV 8/8] END .......C=1, gamma=0.01, kernel=rbf;, score=0.687 total time=   0.1s\n",
      "[CV 1/8] END ....C=1, gamma=0.01, kernel=linear;, score=0.927 total time=   1.9s\n",
      "[CV 2/8] END ....C=1, gamma=0.01, kernel=linear;, score=0.921 total time=   3.2s\n",
      "[CV 3/8] END ....C=1, gamma=0.01, kernel=linear;, score=0.934 total time=   1.5s\n",
      "[CV 4/8] END ....C=1, gamma=0.01, kernel=linear;, score=0.931 total time=   3.0s\n",
      "[CV 5/8] END ....C=1, gamma=0.01, kernel=linear;, score=0.915 total time=   3.9s\n",
      "[CV 6/8] END ....C=1, gamma=0.01, kernel=linear;, score=0.934 total time=   2.8s\n",
      "[CV 7/8] END ....C=1, gamma=0.01, kernel=linear;, score=0.924 total time=   4.9s\n",
      "[CV 8/8] END ....C=1, gamma=0.01, kernel=linear;, score=0.927 total time=   2.8s\n",
      "[CV 1/8] END ...C=1, gamma=0.01, kernel=sigmoid;, score=0.334 total time=   0.1s\n",
      "[CV 2/8] END ...C=1, gamma=0.01, kernel=sigmoid;, score=0.347 total time=   0.1s\n",
      "[CV 3/8] END ...C=1, gamma=0.01, kernel=sigmoid;, score=0.347 total time=   0.1s\n",
      "[CV 4/8] END ...C=1, gamma=0.01, kernel=sigmoid;, score=0.388 total time=   0.1s\n",
      "[CV 5/8] END ...C=1, gamma=0.01, kernel=sigmoid;, score=0.366 total time=   0.1s\n",
      "[CV 6/8] END ...C=1, gamma=0.01, kernel=sigmoid;, score=0.369 total time=   0.1s\n",
      "[CV 7/8] END ...C=1, gamma=0.01, kernel=sigmoid;, score=0.370 total time=   0.1s\n",
      "[CV 8/8] END ...C=1, gamma=0.01, kernel=sigmoid;, score=0.630 total time=   0.0s\n",
      "[CV 1/8] END ......C=1, gamma=0.001, kernel=rbf;, score=0.688 total time=   0.1s\n",
      "[CV 2/8] END ......C=1, gamma=0.001, kernel=rbf;, score=0.681 total time=   0.2s\n",
      "[CV 3/8] END ......C=1, gamma=0.001, kernel=rbf;, score=0.688 total time=   0.1s\n",
      "[CV 4/8] END ......C=1, gamma=0.001, kernel=rbf;, score=0.659 total time=   0.1s\n",
      "[CV 5/8] END ......C=1, gamma=0.001, kernel=rbf;, score=0.659 total time=   0.1s\n",
      "[CV 6/8] END ......C=1, gamma=0.001, kernel=rbf;, score=0.656 total time=   0.1s\n",
      "[CV 7/8] END ......C=1, gamma=0.001, kernel=rbf;, score=0.652 total time=   0.1s\n",
      "[CV 8/8] END ......C=1, gamma=0.001, kernel=rbf;, score=0.661 total time=   0.1s\n",
      "[CV 1/8] END ...C=1, gamma=0.001, kernel=linear;, score=0.927 total time=   2.1s\n",
      "[CV 2/8] END ...C=1, gamma=0.001, kernel=linear;, score=0.921 total time=   3.4s\n",
      "[CV 3/8] END ...C=1, gamma=0.001, kernel=linear;, score=0.934 total time=   1.5s\n"
     ]
    },
    {
     "name": "stdout",
     "output_type": "stream",
     "text": [
      "[CV 4/8] END ...C=1, gamma=0.001, kernel=linear;, score=0.931 total time=   3.0s\n",
      "[CV 5/8] END ...C=1, gamma=0.001, kernel=linear;, score=0.915 total time=   4.1s\n",
      "[CV 6/8] END ...C=1, gamma=0.001, kernel=linear;, score=0.934 total time=   2.6s\n",
      "[CV 7/8] END ...C=1, gamma=0.001, kernel=linear;, score=0.924 total time=   5.2s\n",
      "[CV 8/8] END ...C=1, gamma=0.001, kernel=linear;, score=0.927 total time=   3.0s\n",
      "[CV 1/8] END ..C=1, gamma=0.001, kernel=sigmoid;, score=0.539 total time=   0.0s\n",
      "[CV 2/8] END ..C=1, gamma=0.001, kernel=sigmoid;, score=0.464 total time=   0.0s\n",
      "[CV 3/8] END ..C=1, gamma=0.001, kernel=sigmoid;, score=0.442 total time=   0.0s\n",
      "[CV 4/8] END ..C=1, gamma=0.001, kernel=sigmoid;, score=0.508 total time=   0.0s\n",
      "[CV 5/8] END ..C=1, gamma=0.001, kernel=sigmoid;, score=0.508 total time=   0.0s\n",
      "[CV 6/8] END ..C=1, gamma=0.001, kernel=sigmoid;, score=0.568 total time=   0.1s\n",
      "[CV 7/8] END ..C=1, gamma=0.001, kernel=sigmoid;, score=0.481 total time=   0.0s\n",
      "[CV 8/8] END ..C=1, gamma=0.001, kernel=sigmoid;, score=0.456 total time=   0.0s\n",
      "[CV 1/8] END .....C=1, gamma=0.0001, kernel=rbf;, score=0.694 total time=   0.1s\n",
      "[CV 2/8] END .....C=1, gamma=0.0001, kernel=rbf;, score=0.678 total time=   0.1s\n",
      "[CV 3/8] END .....C=1, gamma=0.0001, kernel=rbf;, score=0.672 total time=   0.1s\n",
      "[CV 4/8] END .....C=1, gamma=0.0001, kernel=rbf;, score=0.659 total time=   0.1s\n",
      "[CV 5/8] END .....C=1, gamma=0.0001, kernel=rbf;, score=0.681 total time=   0.1s\n",
      "[CV 6/8] END .....C=1, gamma=0.0001, kernel=rbf;, score=0.662 total time=   0.1s\n",
      "[CV 7/8] END .....C=1, gamma=0.0001, kernel=rbf;, score=0.674 total time=   0.1s\n",
      "[CV 8/8] END .....C=1, gamma=0.0001, kernel=rbf;, score=0.658 total time=   0.1s\n",
      "[CV 1/8] END ..C=1, gamma=0.0001, kernel=linear;, score=0.927 total time=   2.1s\n",
      "[CV 2/8] END ..C=1, gamma=0.0001, kernel=linear;, score=0.921 total time=   3.1s\n",
      "[CV 3/8] END ..C=1, gamma=0.0001, kernel=linear;, score=0.934 total time=   1.6s\n",
      "[CV 4/8] END ..C=1, gamma=0.0001, kernel=linear;, score=0.931 total time=   2.9s\n",
      "[CV 5/8] END ..C=1, gamma=0.0001, kernel=linear;, score=0.915 total time=   4.1s\n",
      "[CV 6/8] END ..C=1, gamma=0.0001, kernel=linear;, score=0.934 total time=   2.6s\n",
      "[CV 7/8] END ..C=1, gamma=0.0001, kernel=linear;, score=0.924 total time=   4.9s\n",
      "[CV 8/8] END ..C=1, gamma=0.0001, kernel=linear;, score=0.927 total time=   2.7s\n",
      "[CV 1/8] END .C=1, gamma=0.0001, kernel=sigmoid;, score=0.397 total time=   0.0s\n",
      "[CV 2/8] END .C=1, gamma=0.0001, kernel=sigmoid;, score=0.344 total time=   0.0s\n",
      "[CV 3/8] END .C=1, gamma=0.0001, kernel=sigmoid;, score=0.325 total time=   0.0s\n",
      "[CV 4/8] END .C=1, gamma=0.0001, kernel=sigmoid;, score=0.379 total time=   0.0s\n",
      "[CV 5/8] END .C=1, gamma=0.0001, kernel=sigmoid;, score=0.407 total time=   0.0s\n",
      "[CV 6/8] END .C=1, gamma=0.0001, kernel=sigmoid;, score=0.416 total time=   0.0s\n",
      "[CV 7/8] END .C=1, gamma=0.0001, kernel=sigmoid;, score=0.342 total time=   0.0s\n",
      "[CV 8/8] END .C=1, gamma=0.0001, kernel=sigmoid;, score=0.351 total time=   0.0s\n",
      "[CV 1/8] END .........C=10, gamma=1, kernel=rbf;, score=0.839 total time=   0.2s\n",
      "[CV 2/8] END .........C=10, gamma=1, kernel=rbf;, score=0.754 total time=   0.2s\n",
      "[CV 3/8] END .........C=10, gamma=1, kernel=rbf;, score=0.767 total time=   0.2s\n",
      "[CV 4/8] END .........C=10, gamma=1, kernel=rbf;, score=0.744 total time=   0.1s\n",
      "[CV 5/8] END .........C=10, gamma=1, kernel=rbf;, score=0.785 total time=   0.2s\n",
      "[CV 6/8] END .........C=10, gamma=1, kernel=rbf;, score=0.744 total time=   0.3s\n",
      "[CV 7/8] END .........C=10, gamma=1, kernel=rbf;, score=0.788 total time=   0.1s\n",
      "[CV 8/8] END .........C=10, gamma=1, kernel=rbf;, score=0.785 total time=   0.1s\n",
      "[CV 1/8] END ......C=10, gamma=1, kernel=linear;, score=0.984 total time=   6.5s\n",
      "[CV 2/8] END ......C=10, gamma=1, kernel=linear;, score=0.972 total time=  15.2s\n",
      "[CV 3/8] END ......C=10, gamma=1, kernel=linear;, score=0.956 total time=  12.0s\n",
      "[CV 4/8] END ......C=10, gamma=1, kernel=linear;, score=0.965 total time=  14.6s\n",
      "[CV 5/8] END ......C=10, gamma=1, kernel=linear;, score=0.953 total time=  17.4s\n",
      "[CV 6/8] END ......C=10, gamma=1, kernel=linear;, score=0.975 total time=  25.7s\n",
      "[CV 7/8] END ......C=10, gamma=1, kernel=linear;, score=0.984 total time=  14.5s\n",
      "[CV 8/8] END ......C=10, gamma=1, kernel=linear;, score=0.968 total time= 1.3min\n",
      "[CV 1/8] END .....C=10, gamma=1, kernel=sigmoid;, score=0.508 total time=   0.0s\n",
      "[CV 2/8] END .....C=10, gamma=1, kernel=sigmoid;, score=0.508 total time=   0.0s\n",
      "[CV 3/8] END .....C=10, gamma=1, kernel=sigmoid;, score=0.508 total time=   0.0s\n",
      "[CV 4/8] END .....C=10, gamma=1, kernel=sigmoid;, score=0.505 total time=   0.0s\n",
      "[CV 5/8] END .....C=10, gamma=1, kernel=sigmoid;, score=0.505 total time=   0.0s\n",
      "[CV 6/8] END .....C=10, gamma=1, kernel=sigmoid;, score=0.505 total time=   0.0s\n",
      "[CV 7/8] END .....C=10, gamma=1, kernel=sigmoid;, score=0.506 total time=   0.0s\n",
      "[CV 8/8] END .....C=10, gamma=1, kernel=sigmoid;, score=0.506 total time=   0.0s\n",
      "[CV 1/8] END .......C=10, gamma=0.1, kernel=rbf;, score=0.830 total time=   0.1s\n",
      "[CV 2/8] END .......C=10, gamma=0.1, kernel=rbf;, score=0.823 total time=   0.1s\n",
      "[CV 3/8] END .......C=10, gamma=0.1, kernel=rbf;, score=0.817 total time=   0.1s\n",
      "[CV 4/8] END .......C=10, gamma=0.1, kernel=rbf;, score=0.798 total time=   0.1s\n",
      "[CV 5/8] END .......C=10, gamma=0.1, kernel=rbf;, score=0.814 total time=   0.2s\n",
      "[CV 6/8] END .......C=10, gamma=0.1, kernel=rbf;, score=0.839 total time=   0.1s\n",
      "[CV 7/8] END .......C=10, gamma=0.1, kernel=rbf;, score=0.839 total time=   0.1s\n",
      "[CV 8/8] END .......C=10, gamma=0.1, kernel=rbf;, score=0.820 total time=   0.2s\n",
      "[CV 1/8] END ....C=10, gamma=0.1, kernel=linear;, score=0.984 total time=   6.9s\n",
      "[CV 2/8] END ....C=10, gamma=0.1, kernel=linear;, score=0.972 total time=  16.9s\n",
      "[CV 3/8] END ....C=10, gamma=0.1, kernel=linear;, score=0.956 total time=  10.1s\n",
      "[CV 4/8] END ....C=10, gamma=0.1, kernel=linear;, score=0.965 total time=  13.6s\n",
      "[CV 5/8] END ....C=10, gamma=0.1, kernel=linear;, score=0.953 total time=  17.1s\n",
      "[CV 6/8] END ....C=10, gamma=0.1, kernel=linear;, score=0.975 total time=  26.1s\n",
      "[CV 7/8] END ....C=10, gamma=0.1, kernel=linear;, score=0.984 total time=  13.8s\n",
      "[CV 8/8] END ....C=10, gamma=0.1, kernel=linear;, score=0.968 total time= 1.4min\n",
      "[CV 1/8] END ...C=10, gamma=0.1, kernel=sigmoid;, score=0.353 total time=   0.1s\n",
      "[CV 2/8] END ...C=10, gamma=0.1, kernel=sigmoid;, score=0.360 total time=   0.1s\n",
      "[CV 3/8] END ...C=10, gamma=0.1, kernel=sigmoid;, score=0.341 total time=   0.1s\n",
      "[CV 4/8] END ...C=10, gamma=0.1, kernel=sigmoid;, score=0.404 total time=   0.1s\n",
      "[CV 5/8] END ...C=10, gamma=0.1, kernel=sigmoid;, score=0.423 total time=   0.1s\n",
      "[CV 6/8] END ...C=10, gamma=0.1, kernel=sigmoid;, score=0.429 total time=   0.1s\n",
      "[CV 7/8] END ...C=10, gamma=0.1, kernel=sigmoid;, score=0.373 total time=   0.1s\n",
      "[CV 8/8] END ...C=10, gamma=0.1, kernel=sigmoid;, score=0.373 total time=   0.1s\n",
      "[CV 1/8] END ......C=10, gamma=0.01, kernel=rbf;, score=0.801 total time=   0.1s\n",
      "[CV 2/8] END ......C=10, gamma=0.01, kernel=rbf;, score=0.792 total time=   0.1s\n",
      "[CV 3/8] END ......C=10, gamma=0.01, kernel=rbf;, score=0.782 total time=   0.1s\n",
      "[CV 4/8] END ......C=10, gamma=0.01, kernel=rbf;, score=0.782 total time=   0.1s\n",
      "[CV 5/8] END ......C=10, gamma=0.01, kernel=rbf;, score=0.763 total time=   0.1s\n",
      "[CV 6/8] END ......C=10, gamma=0.01, kernel=rbf;, score=0.779 total time=   0.1s\n",
      "[CV 7/8] END ......C=10, gamma=0.01, kernel=rbf;, score=0.769 total time=   0.1s\n",
      "[CV 8/8] END ......C=10, gamma=0.01, kernel=rbf;, score=0.797 total time=   0.1s\n",
      "[CV 1/8] END ...C=10, gamma=0.01, kernel=linear;, score=0.984 total time=   6.4s\n",
      "[CV 2/8] END ...C=10, gamma=0.01, kernel=linear;, score=0.972 total time=  14.8s\n",
      "[CV 3/8] END ...C=10, gamma=0.01, kernel=linear;, score=0.956 total time=   9.8s\n",
      "[CV 4/8] END ...C=10, gamma=0.01, kernel=linear;, score=0.965 total time=  13.2s\n",
      "[CV 5/8] END ...C=10, gamma=0.01, kernel=linear;, score=0.953 total time=  16.5s\n",
      "[CV 6/8] END ...C=10, gamma=0.01, kernel=linear;, score=0.975 total time=  23.4s\n",
      "[CV 7/8] END ...C=10, gamma=0.01, kernel=linear;, score=0.984 total time=  13.4s\n",
      "[CV 8/8] END ...C=10, gamma=0.01, kernel=linear;, score=0.968 total time= 1.2min\n",
      "[CV 1/8] END ..C=10, gamma=0.01, kernel=sigmoid;, score=0.334 total time=   0.1s\n"
     ]
    },
    {
     "name": "stdout",
     "output_type": "stream",
     "text": [
      "[CV 2/8] END ..C=10, gamma=0.01, kernel=sigmoid;, score=0.353 total time=   0.1s\n",
      "[CV 3/8] END ..C=10, gamma=0.01, kernel=sigmoid;, score=0.347 total time=   0.0s\n",
      "[CV 4/8] END ..C=10, gamma=0.01, kernel=sigmoid;, score=0.388 total time=   0.1s\n",
      "[CV 5/8] END ..C=10, gamma=0.01, kernel=sigmoid;, score=0.366 total time=   0.0s\n",
      "[CV 6/8] END ..C=10, gamma=0.01, kernel=sigmoid;, score=0.369 total time=   0.1s\n",
      "[CV 7/8] END ..C=10, gamma=0.01, kernel=sigmoid;, score=0.370 total time=   0.0s\n",
      "[CV 8/8] END ..C=10, gamma=0.01, kernel=sigmoid;, score=0.630 total time=   0.0s\n",
      "[CV 1/8] END .....C=10, gamma=0.001, kernel=rbf;, score=0.763 total time=   0.1s\n",
      "[CV 2/8] END .....C=10, gamma=0.001, kernel=rbf;, score=0.748 total time=   0.1s\n",
      "[CV 3/8] END .....C=10, gamma=0.001, kernel=rbf;, score=0.757 total time=   0.1s\n",
      "[CV 4/8] END .....C=10, gamma=0.001, kernel=rbf;, score=0.741 total time=   0.1s\n",
      "[CV 5/8] END .....C=10, gamma=0.001, kernel=rbf;, score=0.703 total time=   0.1s\n",
      "[CV 6/8] END .....C=10, gamma=0.001, kernel=rbf;, score=0.719 total time=   0.1s\n",
      "[CV 7/8] END .....C=10, gamma=0.001, kernel=rbf;, score=0.699 total time=   0.1s\n",
      "[CV 8/8] END .....C=10, gamma=0.001, kernel=rbf;, score=0.709 total time=   0.1s\n",
      "[CV 1/8] END ..C=10, gamma=0.001, kernel=linear;, score=0.984 total time=   6.5s\n",
      "[CV 2/8] END ..C=10, gamma=0.001, kernel=linear;, score=0.972 total time=  14.7s\n",
      "[CV 3/8] END ..C=10, gamma=0.001, kernel=linear;, score=0.956 total time=   9.8s\n",
      "[CV 4/8] END ..C=10, gamma=0.001, kernel=linear;, score=0.965 total time=  12.9s\n",
      "[CV 5/8] END ..C=10, gamma=0.001, kernel=linear;, score=0.953 total time=  16.5s\n",
      "[CV 6/8] END ..C=10, gamma=0.001, kernel=linear;, score=0.975 total time=  23.8s\n",
      "[CV 7/8] END ..C=10, gamma=0.001, kernel=linear;, score=0.984 total time=  13.6s\n",
      "[CV 8/8] END ..C=10, gamma=0.001, kernel=linear;, score=0.968 total time= 1.2min\n",
      "[CV 1/8] END .C=10, gamma=0.001, kernel=sigmoid;, score=0.502 total time=   0.0s\n",
      "[CV 2/8] END .C=10, gamma=0.001, kernel=sigmoid;, score=0.457 total time=   0.0s\n",
      "[CV 3/8] END .C=10, gamma=0.001, kernel=sigmoid;, score=0.420 total time=   0.0s\n",
      "[CV 4/8] END .C=10, gamma=0.001, kernel=sigmoid;, score=0.483 total time=   0.0s\n",
      "[CV 5/8] END .C=10, gamma=0.001, kernel=sigmoid;, score=0.505 total time=   0.0s\n",
      "[CV 6/8] END .C=10, gamma=0.001, kernel=sigmoid;, score=0.549 total time=   0.0s\n",
      "[CV 7/8] END .C=10, gamma=0.001, kernel=sigmoid;, score=0.481 total time=   0.0s\n",
      "[CV 8/8] END .C=10, gamma=0.001, kernel=sigmoid;, score=0.449 total time=   0.0s\n",
      "[CV 1/8] END ....C=10, gamma=0.0001, kernel=rbf;, score=0.703 total time=   0.1s\n",
      "[CV 2/8] END ....C=10, gamma=0.0001, kernel=rbf;, score=0.681 total time=   0.1s\n",
      "[CV 3/8] END ....C=10, gamma=0.0001, kernel=rbf;, score=0.691 total time=   0.1s\n",
      "[CV 4/8] END ....C=10, gamma=0.0001, kernel=rbf;, score=0.669 total time=   0.1s\n",
      "[CV 5/8] END ....C=10, gamma=0.0001, kernel=rbf;, score=0.669 total time=   0.1s\n",
      "[CV 6/8] END ....C=10, gamma=0.0001, kernel=rbf;, score=0.685 total time=   0.1s\n",
      "[CV 7/8] END ....C=10, gamma=0.0001, kernel=rbf;, score=0.671 total time=   0.1s\n",
      "[CV 8/8] END ....C=10, gamma=0.0001, kernel=rbf;, score=0.646 total time=   0.1s\n",
      "[CV 1/8] END .C=10, gamma=0.0001, kernel=linear;, score=0.984 total time=   6.4s\n",
      "[CV 2/8] END .C=10, gamma=0.0001, kernel=linear;, score=0.972 total time=  14.7s\n",
      "[CV 3/8] END .C=10, gamma=0.0001, kernel=linear;, score=0.956 total time=   9.9s\n",
      "[CV 4/8] END .C=10, gamma=0.0001, kernel=linear;, score=0.965 total time=  13.5s\n",
      "[CV 5/8] END .C=10, gamma=0.0001, kernel=linear;, score=0.953 total time=  16.6s\n",
      "[CV 6/8] END .C=10, gamma=0.0001, kernel=linear;, score=0.975 total time=  24.3s\n",
      "[CV 7/8] END .C=10, gamma=0.0001, kernel=linear;, score=0.984 total time=  13.5s\n",
      "[CV 8/8] END .C=10, gamma=0.0001, kernel=linear;, score=0.968 total time= 1.2min\n",
      "[CV 1/8] END C=10, gamma=0.0001, kernel=sigmoid;, score=0.394 total time=   0.0s\n",
      "[CV 2/8] END C=10, gamma=0.0001, kernel=sigmoid;, score=0.344 total time=   0.0s\n",
      "[CV 3/8] END C=10, gamma=0.0001, kernel=sigmoid;, score=0.319 total time=   0.0s\n",
      "[CV 4/8] END C=10, gamma=0.0001, kernel=sigmoid;, score=0.385 total time=   0.0s\n",
      "[CV 5/8] END C=10, gamma=0.0001, kernel=sigmoid;, score=0.404 total time=   0.0s\n",
      "[CV 6/8] END C=10, gamma=0.0001, kernel=sigmoid;, score=0.423 total time=   0.0s\n",
      "[CV 7/8] END C=10, gamma=0.0001, kernel=sigmoid;, score=0.345 total time=   0.0s\n",
      "[CV 8/8] END C=10, gamma=0.0001, kernel=sigmoid;, score=0.354 total time=   0.0s\n",
      "[CV 1/8] END ........C=100, gamma=1, kernel=rbf;, score=0.845 total time=   0.3s\n",
      "[CV 2/8] END ........C=100, gamma=1, kernel=rbf;, score=0.779 total time=   0.3s\n",
      "[CV 3/8] END ........C=100, gamma=1, kernel=rbf;, score=0.804 total time=   0.3s\n",
      "[CV 4/8] END ........C=100, gamma=1, kernel=rbf;, score=0.773 total time=   0.3s\n",
      "[CV 5/8] END ........C=100, gamma=1, kernel=rbf;, score=0.804 total time=   0.3s\n",
      "[CV 6/8] END ........C=100, gamma=1, kernel=rbf;, score=0.798 total time=   0.3s\n",
      "[CV 7/8] END ........C=100, gamma=1, kernel=rbf;, score=0.851 total time=   0.3s\n",
      "[CV 8/8] END ........C=100, gamma=1, kernel=rbf;, score=0.820 total time=   0.3s\n",
      "[CV 1/8] END .....C=100, gamma=1, kernel=linear;, score=0.978 total time=  17.7s\n",
      "[CV 2/8] END .....C=100, gamma=1, kernel=linear;, score=0.978 total time=  29.5s\n",
      "[CV 3/8] END .....C=100, gamma=1, kernel=linear;, score=0.946 total time= 1.1min\n",
      "[CV 4/8] END .....C=100, gamma=1, kernel=linear;, score=0.959 total time=  33.2s\n",
      "[CV 5/8] END .....C=100, gamma=1, kernel=linear;, score=0.956 total time=  52.1s\n",
      "[CV 6/8] END .....C=100, gamma=1, kernel=linear;, score=0.972 total time=  28.4s\n",
      "[CV 7/8] END .....C=100, gamma=1, kernel=linear;, score=0.987 total time=  25.0s\n",
      "[CV 8/8] END .....C=100, gamma=1, kernel=linear;, score=0.962 total time=  24.8s\n",
      "[CV 1/8] END ....C=100, gamma=1, kernel=sigmoid;, score=0.508 total time=   0.0s\n",
      "[CV 2/8] END ....C=100, gamma=1, kernel=sigmoid;, score=0.508 total time=   0.0s\n",
      "[CV 3/8] END ....C=100, gamma=1, kernel=sigmoid;, score=0.508 total time=   0.0s\n",
      "[CV 4/8] END ....C=100, gamma=1, kernel=sigmoid;, score=0.505 total time=   0.0s\n",
      "[CV 5/8] END ....C=100, gamma=1, kernel=sigmoid;, score=0.505 total time=   0.0s\n",
      "[CV 6/8] END ....C=100, gamma=1, kernel=sigmoid;, score=0.505 total time=   0.0s\n",
      "[CV 7/8] END ....C=100, gamma=1, kernel=sigmoid;, score=0.506 total time=   0.0s\n",
      "[CV 8/8] END ....C=100, gamma=1, kernel=sigmoid;, score=0.506 total time=   0.0s\n",
      "[CV 1/8] END ......C=100, gamma=0.1, kernel=rbf;, score=0.946 total time=   0.2s\n",
      "[CV 2/8] END ......C=100, gamma=0.1, kernel=rbf;, score=0.883 total time=   0.2s\n",
      "[CV 3/8] END ......C=100, gamma=0.1, kernel=rbf;, score=0.861 total time=   0.2s\n",
      "[CV 4/8] END ......C=100, gamma=0.1, kernel=rbf;, score=0.899 total time=   0.2s\n",
      "[CV 5/8] END ......C=100, gamma=0.1, kernel=rbf;, score=0.896 total time=   0.3s\n",
      "[CV 6/8] END ......C=100, gamma=0.1, kernel=rbf;, score=0.886 total time=   0.3s\n",
      "[CV 7/8] END ......C=100, gamma=0.1, kernel=rbf;, score=0.930 total time=   0.2s\n",
      "[CV 8/8] END ......C=100, gamma=0.1, kernel=rbf;, score=0.867 total time=   0.3s\n",
      "[CV 1/8] END ...C=100, gamma=0.1, kernel=linear;, score=0.978 total time=  18.4s\n",
      "[CV 2/8] END ...C=100, gamma=0.1, kernel=linear;, score=0.978 total time=  32.0s\n",
      "[CV 3/8] END ...C=100, gamma=0.1, kernel=linear;, score=0.946 total time= 1.1min\n",
      "[CV 4/8] END ...C=100, gamma=0.1, kernel=linear;, score=0.959 total time=  35.3s\n",
      "[CV 5/8] END ...C=100, gamma=0.1, kernel=linear;, score=0.956 total time=  52.1s\n",
      "[CV 6/8] END ...C=100, gamma=0.1, kernel=linear;, score=0.972 total time=  28.7s\n",
      "[CV 7/8] END ...C=100, gamma=0.1, kernel=linear;, score=0.987 total time=  25.5s\n",
      "[CV 8/8] END ...C=100, gamma=0.1, kernel=linear;, score=0.962 total time=  25.0s\n",
      "[CV 1/8] END ..C=100, gamma=0.1, kernel=sigmoid;, score=0.366 total time=   0.1s\n",
      "[CV 2/8] END ..C=100, gamma=0.1, kernel=sigmoid;, score=0.372 total time=   0.1s\n",
      "[CV 3/8] END ..C=100, gamma=0.1, kernel=sigmoid;, score=0.360 total time=   0.0s\n",
      "[CV 4/8] END ..C=100, gamma=0.1, kernel=sigmoid;, score=0.401 total time=   0.1s\n",
      "[CV 5/8] END ..C=100, gamma=0.1, kernel=sigmoid;, score=0.407 total time=   0.1s\n",
      "[CV 6/8] END ..C=100, gamma=0.1, kernel=sigmoid;, score=0.426 total time=   0.1s\n",
      "[CV 7/8] END ..C=100, gamma=0.1, kernel=sigmoid;, score=0.373 total time=   0.0s\n"
     ]
    },
    {
     "name": "stdout",
     "output_type": "stream",
     "text": [
      "[CV 8/8] END ..C=100, gamma=0.1, kernel=sigmoid;, score=0.402 total time=   0.1s\n",
      "[CV 1/8] END .....C=100, gamma=0.01, kernel=rbf;, score=0.950 total time=   0.1s\n",
      "[CV 2/8] END .....C=100, gamma=0.01, kernel=rbf;, score=0.924 total time=   0.2s\n",
      "[CV 3/8] END .....C=100, gamma=0.01, kernel=rbf;, score=0.909 total time=   0.1s\n",
      "[CV 4/8] END .....C=100, gamma=0.01, kernel=rbf;, score=0.912 total time=   0.1s\n",
      "[CV 5/8] END .....C=100, gamma=0.01, kernel=rbf;, score=0.915 total time=   0.1s\n",
      "[CV 6/8] END .....C=100, gamma=0.01, kernel=rbf;, score=0.915 total time=   0.1s\n",
      "[CV 7/8] END .....C=100, gamma=0.01, kernel=rbf;, score=0.930 total time=   0.1s\n",
      "[CV 8/8] END .....C=100, gamma=0.01, kernel=rbf;, score=0.908 total time=   0.1s\n",
      "[CV 1/8] END ..C=100, gamma=0.01, kernel=linear;, score=0.978 total time=  17.8s\n",
      "[CV 2/8] END ..C=100, gamma=0.01, kernel=linear;, score=0.978 total time=  30.6s\n",
      "[CV 3/8] END ..C=100, gamma=0.01, kernel=linear;, score=0.946 total time= 1.1min\n",
      "[CV 4/8] END ..C=100, gamma=0.01, kernel=linear;, score=0.959 total time=  35.9s\n",
      "[CV 5/8] END ..C=100, gamma=0.01, kernel=linear;, score=0.956 total time=  53.0s\n",
      "[CV 6/8] END ..C=100, gamma=0.01, kernel=linear;, score=0.972 total time=20.7min\n",
      "[CV 7/8] END ..C=100, gamma=0.01, kernel=linear;, score=0.987 total time=  25.8s\n",
      "[CV 8/8] END ..C=100, gamma=0.01, kernel=linear;, score=0.962 total time=  24.8s\n",
      "[CV 1/8] END .C=100, gamma=0.01, kernel=sigmoid;, score=0.334 total time=   0.1s\n",
      "[CV 2/8] END .C=100, gamma=0.01, kernel=sigmoid;, score=0.353 total time=   0.1s\n",
      "[CV 3/8] END .C=100, gamma=0.01, kernel=sigmoid;, score=0.347 total time=   0.0s\n",
      "[CV 4/8] END .C=100, gamma=0.01, kernel=sigmoid;, score=0.388 total time=   0.1s\n",
      "[CV 5/8] END .C=100, gamma=0.01, kernel=sigmoid;, score=0.366 total time=   0.1s\n",
      "[CV 6/8] END .C=100, gamma=0.01, kernel=sigmoid;, score=0.369 total time=   0.1s\n",
      "[CV 7/8] END .C=100, gamma=0.01, kernel=sigmoid;, score=0.370 total time=   0.0s\n",
      "[CV 8/8] END .C=100, gamma=0.01, kernel=sigmoid;, score=0.630 total time=   0.0s\n",
      "[CV 1/8] END ....C=100, gamma=0.001, kernel=rbf;, score=0.849 total time=   0.1s\n",
      "[CV 2/8] END ....C=100, gamma=0.001, kernel=rbf;, score=0.830 total time=   0.1s\n",
      "[CV 3/8] END ....C=100, gamma=0.001, kernel=rbf;, score=0.817 total time=   0.1s\n",
      "[CV 4/8] END ....C=100, gamma=0.001, kernel=rbf;, score=0.833 total time=   0.1s\n",
      "[CV 5/8] END ....C=100, gamma=0.001, kernel=rbf;, score=0.811 total time=   0.1s\n",
      "[CV 6/8] END ....C=100, gamma=0.001, kernel=rbf;, score=0.808 total time=   0.1s\n",
      "[CV 7/8] END ....C=100, gamma=0.001, kernel=rbf;, score=0.813 total time=   0.1s\n",
      "[CV 8/8] END ....C=100, gamma=0.001, kernel=rbf;, score=0.816 total time=   0.1s\n",
      "[CV 1/8] END .C=100, gamma=0.001, kernel=linear;, score=0.978 total time=  18.5s\n",
      "[CV 2/8] END .C=100, gamma=0.001, kernel=linear;, score=0.978 total time=  30.5s\n",
      "[CV 3/8] END .C=100, gamma=0.001, kernel=linear;, score=0.946 total time= 1.1min\n",
      "[CV 4/8] END .C=100, gamma=0.001, kernel=linear;, score=0.959 total time=  33.6s\n",
      "[CV 5/8] END .C=100, gamma=0.001, kernel=linear;, score=0.956 total time=  51.0s\n",
      "[CV 6/8] END .C=100, gamma=0.001, kernel=linear;, score=0.972 total time=  29.0s\n",
      "[CV 7/8] END .C=100, gamma=0.001, kernel=linear;, score=0.987 total time=  24.2s\n",
      "[CV 8/8] END .C=100, gamma=0.001, kernel=linear;, score=0.962 total time=  24.7s\n",
      "[CV 1/8] END C=100, gamma=0.001, kernel=sigmoid;, score=0.505 total time=   0.0s\n",
      "[CV 2/8] END C=100, gamma=0.001, kernel=sigmoid;, score=0.457 total time=   0.0s\n",
      "[CV 3/8] END C=100, gamma=0.001, kernel=sigmoid;, score=0.426 total time=   0.0s\n",
      "[CV 4/8] END C=100, gamma=0.001, kernel=sigmoid;, score=0.483 total time=   0.0s\n",
      "[CV 5/8] END C=100, gamma=0.001, kernel=sigmoid;, score=0.505 total time=   0.0s\n",
      "[CV 6/8] END C=100, gamma=0.001, kernel=sigmoid;, score=0.546 total time=   0.0s\n",
      "[CV 7/8] END C=100, gamma=0.001, kernel=sigmoid;, score=0.472 total time=   0.0s\n",
      "[CV 8/8] END C=100, gamma=0.001, kernel=sigmoid;, score=0.446 total time=   0.0s\n",
      "[CV 1/8] END ...C=100, gamma=0.0001, kernel=rbf;, score=0.744 total time=   0.1s\n",
      "[CV 2/8] END ...C=100, gamma=0.0001, kernel=rbf;, score=0.748 total time=   0.1s\n",
      "[CV 3/8] END ...C=100, gamma=0.0001, kernel=rbf;, score=0.751 total time=   0.1s\n",
      "[CV 4/8] END ...C=100, gamma=0.0001, kernel=rbf;, score=0.748 total time=   0.1s\n",
      "[CV 5/8] END ...C=100, gamma=0.0001, kernel=rbf;, score=0.697 total time=   0.1s\n",
      "[CV 6/8] END ...C=100, gamma=0.0001, kernel=rbf;, score=0.722 total time=   0.1s\n",
      "[CV 7/8] END ...C=100, gamma=0.0001, kernel=rbf;, score=0.703 total time=   0.1s\n",
      "[CV 8/8] END ...C=100, gamma=0.0001, kernel=rbf;, score=0.715 total time=   0.1s\n",
      "[CV 1/8] END C=100, gamma=0.0001, kernel=linear;, score=0.978 total time=  18.3s\n",
      "[CV 2/8] END C=100, gamma=0.0001, kernel=linear;, score=0.978 total time=  30.0s\n",
      "[CV 3/8] END C=100, gamma=0.0001, kernel=linear;, score=0.946 total time= 1.1min\n",
      "[CV 4/8] END C=100, gamma=0.0001, kernel=linear;, score=0.959 total time=  32.7s\n",
      "[CV 5/8] END C=100, gamma=0.0001, kernel=linear;, score=0.956 total time=  51.6s\n",
      "[CV 6/8] END C=100, gamma=0.0001, kernel=linear;, score=0.972 total time=  27.9s\n",
      "[CV 7/8] END C=100, gamma=0.0001, kernel=linear;, score=0.987 total time=  24.3s\n",
      "[CV 8/8] END C=100, gamma=0.0001, kernel=linear;, score=0.962 total time=  23.9s\n",
      "[CV 1/8] END C=100, gamma=0.0001, kernel=sigmoid;, score=0.397 total time=   0.0s\n",
      "[CV 2/8] END C=100, gamma=0.0001, kernel=sigmoid;, score=0.344 total time=   0.0s\n",
      "[CV 3/8] END C=100, gamma=0.0001, kernel=sigmoid;, score=0.312 total time=   0.0s\n",
      "[CV 4/8] END C=100, gamma=0.0001, kernel=sigmoid;, score=0.385 total time=   0.0s\n",
      "[CV 5/8] END C=100, gamma=0.0001, kernel=sigmoid;, score=0.407 total time=   0.0s\n",
      "[CV 6/8] END C=100, gamma=0.0001, kernel=sigmoid;, score=0.423 total time=   0.0s\n",
      "[CV 7/8] END C=100, gamma=0.0001, kernel=sigmoid;, score=0.345 total time=   0.0s\n",
      "[CV 8/8] END C=100, gamma=0.0001, kernel=sigmoid;, score=0.354 total time=   0.0s\n",
      "[CV 1/8] END .......C=1000, gamma=1, kernel=rbf;, score=0.845 total time=   0.3s\n",
      "[CV 2/8] END .......C=1000, gamma=1, kernel=rbf;, score=0.779 total time=   0.3s\n",
      "[CV 3/8] END .......C=1000, gamma=1, kernel=rbf;, score=0.804 total time=   0.3s\n",
      "[CV 4/8] END .......C=1000, gamma=1, kernel=rbf;, score=0.770 total time=   0.3s\n",
      "[CV 5/8] END .......C=1000, gamma=1, kernel=rbf;, score=0.808 total time=   0.3s\n",
      "[CV 6/8] END .......C=1000, gamma=1, kernel=rbf;, score=0.804 total time=   0.3s\n",
      "[CV 7/8] END .......C=1000, gamma=1, kernel=rbf;, score=0.851 total time=   0.3s\n",
      "[CV 8/8] END .......C=1000, gamma=1, kernel=rbf;, score=0.820 total time=   0.4s\n",
      "[CV 1/8] END ....C=1000, gamma=1, kernel=linear;, score=0.972 total time=  31.4s\n",
      "[CV 2/8] END ....C=1000, gamma=1, kernel=linear;, score=0.972 total time=  39.8s\n",
      "[CV 3/8] END ....C=1000, gamma=1, kernel=linear;, score=0.943 total time= 1.3min\n",
      "[CV 4/8] END ....C=1000, gamma=1, kernel=linear;, score=0.956 total time=  55.1s\n",
      "[CV 5/8] END ....C=1000, gamma=1, kernel=linear;, score=0.946 total time=  37.4s\n",
      "[CV 6/8] END ....C=1000, gamma=1, kernel=linear;, score=0.965 total time=  20.9s\n",
      "[CV 7/8] END ....C=1000, gamma=1, kernel=linear;, score=0.968 total time=  52.8s\n",
      "[CV 8/8] END ....C=1000, gamma=1, kernel=linear;, score=0.949 total time=  40.4s\n",
      "[CV 1/8] END ...C=1000, gamma=1, kernel=sigmoid;, score=0.508 total time=   0.1s\n",
      "[CV 2/8] END ...C=1000, gamma=1, kernel=sigmoid;, score=0.508 total time=   0.1s\n",
      "[CV 3/8] END ...C=1000, gamma=1, kernel=sigmoid;, score=0.508 total time=   0.1s\n",
      "[CV 4/8] END ...C=1000, gamma=1, kernel=sigmoid;, score=0.505 total time=   0.1s\n",
      "[CV 5/8] END ...C=1000, gamma=1, kernel=sigmoid;, score=0.505 total time=   0.1s\n",
      "[CV 6/8] END ...C=1000, gamma=1, kernel=sigmoid;, score=0.505 total time=   0.1s\n",
      "[CV 7/8] END ...C=1000, gamma=1, kernel=sigmoid;, score=0.506 total time=   0.1s\n",
      "[CV 8/8] END ...C=1000, gamma=1, kernel=sigmoid;, score=0.506 total time=   0.0s\n",
      "[CV 1/8] END .....C=1000, gamma=0.1, kernel=rbf;, score=0.940 total time=   0.6s\n",
      "[CV 2/8] END .....C=1000, gamma=0.1, kernel=rbf;, score=0.874 total time=   0.5s\n",
      "[CV 3/8] END .....C=1000, gamma=0.1, kernel=rbf;, score=0.877 total time=   0.4s\n",
      "[CV 4/8] END .....C=1000, gamma=0.1, kernel=rbf;, score=0.899 total time=   0.5s\n",
      "[CV 5/8] END .....C=1000, gamma=0.1, kernel=rbf;, score=0.912 total time=   0.5s\n"
     ]
    },
    {
     "name": "stdout",
     "output_type": "stream",
     "text": [
      "[CV 6/8] END .....C=1000, gamma=0.1, kernel=rbf;, score=0.912 total time=   0.5s\n",
      "[CV 7/8] END .....C=1000, gamma=0.1, kernel=rbf;, score=0.921 total time=   0.6s\n",
      "[CV 8/8] END .....C=1000, gamma=0.1, kernel=rbf;, score=0.877 total time=   0.5s\n",
      "[CV 1/8] END ..C=1000, gamma=0.1, kernel=linear;, score=0.972 total time=  34.8s\n",
      "[CV 2/8] END ..C=1000, gamma=0.1, kernel=linear;, score=0.972 total time=  43.1s\n",
      "[CV 3/8] END ..C=1000, gamma=0.1, kernel=linear;, score=0.943 total time= 1.4min\n",
      "[CV 4/8] END ..C=1000, gamma=0.1, kernel=linear;, score=0.956 total time=  56.6s\n",
      "[CV 5/8] END ..C=1000, gamma=0.1, kernel=linear;, score=0.946 total time=  39.0s\n",
      "[CV 6/8] END ..C=1000, gamma=0.1, kernel=linear;, score=0.965 total time=  20.4s\n",
      "[CV 7/8] END ..C=1000, gamma=0.1, kernel=linear;, score=0.968 total time=  53.3s\n",
      "[CV 8/8] END ..C=1000, gamma=0.1, kernel=linear;, score=0.949 total time=  40.9s\n",
      "[CV 1/8] END .C=1000, gamma=0.1, kernel=sigmoid;, score=0.369 total time=   0.0s\n",
      "[CV 2/8] END .C=1000, gamma=0.1, kernel=sigmoid;, score=0.375 total time=   0.0s\n",
      "[CV 3/8] END .C=1000, gamma=0.1, kernel=sigmoid;, score=0.360 total time=   0.1s\n",
      "[CV 4/8] END .C=1000, gamma=0.1, kernel=sigmoid;, score=0.401 total time=   0.1s\n",
      "[CV 5/8] END .C=1000, gamma=0.1, kernel=sigmoid;, score=0.407 total time=   0.1s\n",
      "[CV 6/8] END .C=1000, gamma=0.1, kernel=sigmoid;, score=0.416 total time=   0.0s\n",
      "[CV 7/8] END .C=1000, gamma=0.1, kernel=sigmoid;, score=0.377 total time=   0.0s\n",
      "[CV 8/8] END .C=1000, gamma=0.1, kernel=sigmoid;, score=0.399 total time=   0.1s\n",
      "[CV 1/8] END ....C=1000, gamma=0.01, kernel=rbf;, score=0.975 total time=   0.2s\n",
      "[CV 2/8] END ....C=1000, gamma=0.01, kernel=rbf;, score=0.937 total time=   0.3s\n",
      "[CV 3/8] END ....C=1000, gamma=0.01, kernel=rbf;, score=0.921 total time=   0.2s\n",
      "[CV 4/8] END ....C=1000, gamma=0.01, kernel=rbf;, score=0.950 total time=   0.3s\n",
      "[CV 5/8] END ....C=1000, gamma=0.01, kernel=rbf;, score=0.931 total time=   0.3s\n",
      "[CV 6/8] END ....C=1000, gamma=0.01, kernel=rbf;, score=0.946 total time=   0.3s\n",
      "[CV 7/8] END ....C=1000, gamma=0.01, kernel=rbf;, score=0.956 total time=   0.3s\n",
      "[CV 8/8] END ....C=1000, gamma=0.01, kernel=rbf;, score=0.924 total time=   0.2s\n",
      "[CV 1/8] END .C=1000, gamma=0.01, kernel=linear;, score=0.972 total time=  32.9s\n",
      "[CV 2/8] END .C=1000, gamma=0.01, kernel=linear;, score=0.972 total time=  41.4s\n",
      "[CV 3/8] END .C=1000, gamma=0.01, kernel=linear;, score=0.943 total time= 1.4min\n",
      "[CV 4/8] END .C=1000, gamma=0.01, kernel=linear;, score=0.956 total time=  52.6s\n",
      "[CV 5/8] END .C=1000, gamma=0.01, kernel=linear;, score=0.946 total time=  38.8s\n",
      "[CV 6/8] END .C=1000, gamma=0.01, kernel=linear;, score=0.965 total time=  21.5s\n",
      "[CV 7/8] END .C=1000, gamma=0.01, kernel=linear;, score=0.968 total time=  55.4s\n",
      "[CV 8/8] END .C=1000, gamma=0.01, kernel=linear;, score=0.949 total time=  41.7s\n",
      "[CV 1/8] END C=1000, gamma=0.01, kernel=sigmoid;, score=0.334 total time=   0.1s\n",
      "[CV 2/8] END C=1000, gamma=0.01, kernel=sigmoid;, score=0.353 total time=   0.2s\n",
      "[CV 3/8] END C=1000, gamma=0.01, kernel=sigmoid;, score=0.347 total time=   0.1s\n",
      "[CV 4/8] END C=1000, gamma=0.01, kernel=sigmoid;, score=0.388 total time=   0.1s\n",
      "[CV 5/8] END C=1000, gamma=0.01, kernel=sigmoid;, score=0.366 total time=   0.1s\n",
      "[CV 6/8] END C=1000, gamma=0.01, kernel=sigmoid;, score=0.369 total time=   0.1s\n",
      "[CV 7/8] END C=1000, gamma=0.01, kernel=sigmoid;, score=0.370 total time=   0.1s\n",
      "[CV 8/8] END C=1000, gamma=0.01, kernel=sigmoid;, score=0.630 total time=   0.0s\n",
      "[CV 1/8] END ...C=1000, gamma=0.001, kernel=rbf;, score=0.959 total time=   0.2s\n",
      "[CV 2/8] END ...C=1000, gamma=0.001, kernel=rbf;, score=0.940 total time=   0.3s\n",
      "[CV 3/8] END ...C=1000, gamma=0.001, kernel=rbf;, score=0.924 total time=   0.2s\n",
      "[CV 4/8] END ...C=1000, gamma=0.001, kernel=rbf;, score=0.931 total time=   0.2s\n",
      "[CV 5/8] END ...C=1000, gamma=0.001, kernel=rbf;, score=0.912 total time=   0.2s\n",
      "[CV 6/8] END ...C=1000, gamma=0.001, kernel=rbf;, score=0.937 total time=   0.2s\n",
      "[CV 7/8] END ...C=1000, gamma=0.001, kernel=rbf;, score=0.953 total time=   0.3s\n",
      "[CV 8/8] END ...C=1000, gamma=0.001, kernel=rbf;, score=0.930 total time=   0.2s\n",
      "[CV 1/8] END C=1000, gamma=0.001, kernel=linear;, score=0.972 total time=  34.9s\n",
      "[CV 2/8] END C=1000, gamma=0.001, kernel=linear;, score=0.972 total time=  42.7s\n",
      "[CV 3/8] END C=1000, gamma=0.001, kernel=linear;, score=0.943 total time= 1.5min\n",
      "[CV 4/8] END C=1000, gamma=0.001, kernel=linear;, score=0.956 total time=  54.0s\n",
      "[CV 5/8] END C=1000, gamma=0.001, kernel=linear;, score=0.946 total time=  39.8s\n",
      "[CV 6/8] END C=1000, gamma=0.001, kernel=linear;, score=0.965 total time=  20.1s\n",
      "[CV 7/8] END C=1000, gamma=0.001, kernel=linear;, score=0.968 total time=  54.9s\n",
      "[CV 8/8] END C=1000, gamma=0.001, kernel=linear;, score=0.949 total time=  41.9s\n",
      "[CV 1/8] END C=1000, gamma=0.001, kernel=sigmoid;, score=0.505 total time=   0.0s\n",
      "[CV 2/8] END C=1000, gamma=0.001, kernel=sigmoid;, score=0.454 total time=   0.0s\n",
      "[CV 3/8] END C=1000, gamma=0.001, kernel=sigmoid;, score=0.426 total time=   0.0s\n",
      "[CV 4/8] END C=1000, gamma=0.001, kernel=sigmoid;, score=0.483 total time=   0.0s\n",
      "[CV 5/8] END C=1000, gamma=0.001, kernel=sigmoid;, score=0.505 total time=   0.0s\n",
      "[CV 6/8] END C=1000, gamma=0.001, kernel=sigmoid;, score=0.546 total time=   0.0s\n",
      "[CV 7/8] END C=1000, gamma=0.001, kernel=sigmoid;, score=0.472 total time=   0.0s\n",
      "[CV 8/8] END C=1000, gamma=0.001, kernel=sigmoid;, score=0.446 total time=   0.0s\n",
      "[CV 1/8] END ..C=1000, gamma=0.0001, kernel=rbf;, score=0.845 total time=   0.2s\n",
      "[CV 2/8] END ..C=1000, gamma=0.0001, kernel=rbf;, score=0.842 total time=   0.2s\n",
      "[CV 3/8] END ..C=1000, gamma=0.0001, kernel=rbf;, score=0.830 total time=   0.2s\n",
      "[CV 4/8] END ..C=1000, gamma=0.0001, kernel=rbf;, score=0.820 total time=   0.3s\n",
      "[CV 5/8] END ..C=1000, gamma=0.0001, kernel=rbf;, score=0.801 total time=   0.3s\n",
      "[CV 6/8] END ..C=1000, gamma=0.0001, kernel=rbf;, score=0.823 total time=   0.2s\n",
      "[CV 7/8] END ..C=1000, gamma=0.0001, kernel=rbf;, score=0.829 total time=   0.3s\n",
      "[CV 8/8] END ..C=1000, gamma=0.0001, kernel=rbf;, score=0.823 total time=   0.2s\n",
      "[CV 1/8] END C=1000, gamma=0.0001, kernel=linear;, score=0.972 total time=  34.6s\n",
      "[CV 2/8] END C=1000, gamma=0.0001, kernel=linear;, score=0.972 total time=  46.9s\n",
      "[CV 3/8] END C=1000, gamma=0.0001, kernel=linear;, score=0.943 total time= 1.5min\n",
      "[CV 4/8] END C=1000, gamma=0.0001, kernel=linear;, score=0.956 total time= 1.1min\n",
      "[CV 5/8] END C=1000, gamma=0.0001, kernel=linear;, score=0.946 total time=  41.1s\n",
      "[CV 6/8] END C=1000, gamma=0.0001, kernel=linear;, score=0.965 total time=  21.3s\n",
      "[CV 7/8] END C=1000, gamma=0.0001, kernel=linear;, score=0.968 total time=  55.0s\n",
      "[CV 8/8] END C=1000, gamma=0.0001, kernel=linear;, score=0.949 total time=  40.8s\n",
      "[CV 1/8] END C=1000, gamma=0.0001, kernel=sigmoid;, score=0.394 total time=   0.0s\n",
      "[CV 2/8] END C=1000, gamma=0.0001, kernel=sigmoid;, score=0.344 total time=   0.0s\n",
      "[CV 3/8] END C=1000, gamma=0.0001, kernel=sigmoid;, score=0.315 total time=   0.0s\n",
      "[CV 4/8] END C=1000, gamma=0.0001, kernel=sigmoid;, score=0.385 total time=   0.0s\n",
      "[CV 5/8] END C=1000, gamma=0.0001, kernel=sigmoid;, score=0.407 total time=   0.0s\n",
      "[CV 6/8] END C=1000, gamma=0.0001, kernel=sigmoid;, score=0.423 total time=   0.0s\n",
      "[CV 7/8] END C=1000, gamma=0.0001, kernel=sigmoid;, score=0.345 total time=   0.0s\n",
      "[CV 8/8] END C=1000, gamma=0.0001, kernel=sigmoid;, score=0.354 total time=   0.0s\n"
     ]
    },
    {
     "data": {
      "text/plain": [
       "GridSearchCV(cv=8, estimator=SVC(),\n",
       "             param_grid={'C': [0.1, 1, 10, 100, 1000],\n",
       "                         'gamma': [1, 0.1, 0.01, 0.001, 0.0001],\n",
       "                         'kernel': ['rbf', 'linear', 'sigmoid']},\n",
       "             scoring='accuracy', verbose=4)"
      ]
     },
     "execution_count": 29,
     "metadata": {},
     "output_type": "execute_result"
    }
   ],
   "source": [
    "from sklearn.model_selection import GridSearchCV\n",
    " \n",
    "# defining parameter range\n",
    "param_grid = {'C': [0.1, 1, 10, 100, 1000],\n",
    "              'gamma': [1, 0.1, 0.01, 0.001, 0.0001],\n",
    "              'kernel': ['rbf','linear','sigmoid']}\n",
    " \n",
    "grid = GridSearchCV(SVC(), param_grid, refit = True, verbose = 4, cv=8, scoring = 'accuracy')\n",
    " \n",
    "# fitting the model for grid search\n",
    "grid.fit(X_train, y_train)"
   ]
  },
  {
   "cell_type": "markdown",
   "id": "cbfd77a6",
   "metadata": {},
   "source": [
    "## Displaying the best parameters"
   ]
  },
  {
   "cell_type": "code",
   "execution_count": 30,
   "id": "3da60ced",
   "metadata": {
    "scrolled": true
   },
   "outputs": [
    {
     "name": "stdout",
     "output_type": "stream",
     "text": [
      "{'C': 10, 'gamma': 1, 'kernel': 'linear'}\n",
      "SVC(C=10, gamma=1, kernel='linear')\n"
     ]
    }
   ],
   "source": [
    "# print best parameter after tuning\n",
    "print(grid.best_params_)\n",
    " \n",
    "# print how our model looks after hyper-parameter tuning\n",
    "print(grid.best_estimator_)"
   ]
  },
  {
   "cell_type": "code",
   "execution_count": 34,
   "id": "421424ba",
   "metadata": {
    "scrolled": true
   },
   "outputs": [
    {
     "name": "stdout",
     "output_type": "stream",
     "text": [
      "0.9796185061693887\n"
     ]
    }
   ],
   "source": [
    "accuracy = grid.best_score_\n",
    "print(accuracy)"
   ]
  },
  {
   "cell_type": "code",
   "execution_count": 32,
   "id": "ac74b42c",
   "metadata": {},
   "outputs": [],
   "source": [
    "from itertools import product\n",
    "def plot_confusion_matrix(cm, classes, normalize=True, title='Confusion matrix', cmap=plt.cm.Blues):\n",
    "    plt.figure(figsize=(10,10))\n",
    "    plt.grid(False)\n",
    "    plt.imshow(cm, interpolation='nearest', cmap=cmap)\n",
    "    plt.title(title)\n",
    "    plt.colorbar()\n",
    "    tick_marks = np.arange(len(classes))\n",
    "    plt.xticks(tick_marks, classes, rotation=45)\n",
    "    plt.yticks(tick_marks, classes)\n",
    "    cm1 = cm\n",
    "    if normalize:\n",
    "        cm = cm.astype('float') / cm.sum(axis=1)[:, np.newaxis]\n",
    "        cm = np.around(cm, decimals=2)\n",
    "        cm[np.isnan(cm)] \n",
    "        thresh = cm.max() / 2.\n",
    "    for i, j in product(range(cm.shape[0]), range(cm.shape[1])):\n",
    "        plt.text(j, i, str(cm1[i, j])+ \" (\"+ str(cm[i, j]*100)+\"%)\",\n",
    "                 horizontalalignment=\"center\",\n",
    "                 color=\"white\" if cm[i, j] > thresh else \"black\")\n",
    "    plt.tight_layout()\n",
    "    plt.ylabel('True label')\n",
    "    plt.xlabel('Predicted label')"
   ]
  },
  {
   "cell_type": "code",
   "execution_count": 33,
   "id": "f5bac977",
   "metadata": {
    "scrolled": true
   },
   "outputs": [
    {
     "data": {
      "image/png": "[encoded data removed]",
      "text/plain": [
       "<Figure size 720x720 with 2 Axes>"
      ]
     },
     "metadata": {
      "needs_background": "light"
     },
     "output_type": "display_data"
    }
   ],
   "source": [
    "confusion_mtx = confusion_matrix(y_test, y_pred) \n",
    "plot_confusion_matrix(confusion_mtx, classes = [df_final[0], df_final[1]])"
   ]
  }
 ],
 "metadata": {
  "kernelspec": {
   "display_name": "Python 3 (ipykernel)",
   "language": "python",
   "name": "python3"
  },
  "language_info": {
   "codemirror_mode": {
    "name": "ipython",
    "version": 3
   },
   "file_extension": ".py",
   "mimetype": "text/x-python",
   "name": "python",
   "nbconvert_exporter": "python",
   "pygments_lexer": "ipython3",
   "version": "3.9.0"
  }
 },
 "nbformat": 4,
 "nbformat_minor": 5
}
